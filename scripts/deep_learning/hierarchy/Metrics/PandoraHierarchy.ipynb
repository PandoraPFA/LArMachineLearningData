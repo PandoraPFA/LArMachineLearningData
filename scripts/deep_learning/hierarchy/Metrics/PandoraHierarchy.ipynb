{
 "cells": [
  {
   "cell_type": "code",
   "execution_count": null,
   "id": "7438e27b",
   "metadata": {},
   "outputs": [],
   "source": [
    "###########################################################\n",
    "# Imports\n",
    "###########################################################\n",
    "import sys\n",
    "import os\n",
    "sys.path.insert(0, os.getcwd()[0:len(os.getcwd()) - 8])\n",
    "\n",
    "import uproot\n",
    "import numpy as np\n",
    "import math\n",
    "import torch\n",
    "\n",
    "import Padding\n",
    "import Normalise\n",
    "import Metrics"
   ]
  },
  {
   "cell_type": "code",
   "execution_count": null,
   "id": "3a51d762",
   "metadata": {},
   "outputs": [],
   "source": [
    "###########################################################\n",
    "# Define file\n",
    "###########################################################\n",
    "#fileName = sys.path[0] + '/files/MLPHierarchyValidationFile.root'\n",
    "fileName = sys.path[0] + '/files/pandoraHierarchy.root'\n",
    "\n",
    "treeFile = uproot.open(fileName)"
   ]
  },
  {
   "cell_type": "code",
   "execution_count": null,
   "id": "3d81489b",
   "metadata": {},
   "outputs": [],
   "source": [
    "######################\n",
    "# Read Trees\n",
    "######################       \n",
    "# Event \n",
    "tree = treeFile['ValidationTree']\n",
    "branches = tree.arrays()\n",
    "\n",
    "frog = branches[\"IsPandoraOG\"]\n",
    "\n",
    "\n",
    "isPandoraOG = np.array(branches[\"IsPandoraOG\"])\n",
    "isTrack = np.array(branches[\"IsTrack\"])\n",
    "truePDG = np.array(branches[\"TruePDG\"])\n",
    "trueVisibleGen = np.array(branches[\"TrueVisibleGen\"])\n",
    "hasCorrectParent = np.array(branches[\"HasCorrectParent\"])\n",
    "recoGen = np.array(branches[\"RecoGen\"])\n",
    "nuVertexAccuracy = np.array(branches[\"NuVertexAccuracy\"])\n"
   ]
  },
  {
   "cell_type": "code",
   "execution_count": null,
   "id": "876e669d",
   "metadata": {},
   "outputs": [],
   "source": [
    "######################\n",
    "# Apply vertex mask\n",
    "######################       \n",
    "\n",
    "vertexMask = (nuVertexAccuracy < 100000000000000)\n",
    "\n",
    "isPandoraOG = isPandoraOG[vertexMask]\n",
    "isTrack = isTrack[vertexMask]\n",
    "truePDG = truePDG[vertexMask]\n",
    "trueVisibleGen = trueVisibleGen[vertexMask]\n",
    "hasCorrectParent = hasCorrectParent[vertexMask]\n",
    "recoGen = recoGen[vertexMask]\n",
    "nuVertexAccuracy = nuVertexAccuracy[vertexMask]"
   ]
  },
  {
   "cell_type": "code",
   "execution_count": null,
   "id": "f523aa42",
   "metadata": {},
   "outputs": [],
   "source": [
    "######################################   \n",
    "# Split Pandora OG and current\n",
    "######################################        \n",
    "\n",
    "isTrack_pandora = isTrack[isPandoraOG == 1]\n",
    "truePDG_pandora = truePDG[isPandoraOG == 1]\n",
    "trueVisibleGen_pandora = trueVisibleGen[isPandoraOG == 1]\n",
    "hasCorrectParent_pandora = hasCorrectParent[isPandoraOG == 1]\n",
    "recoGen_pandora = recoGen[isPandoraOG == 1]\n",
    "nuVertexAccuracy_pandora = nuVertexAccuracy[isPandoraOG == 1]\n",
    "\n",
    "isTrack_isobel = isTrack[isPandoraOG == 0]\n",
    "truePDG_isobel = truePDG[isPandoraOG == 0]\n",
    "trueVisibleGen_isobel = trueVisibleGen[isPandoraOG == 0]\n",
    "hasCorrectParent_isobel = hasCorrectParent[isPandoraOG == 0]\n",
    "recoGen_isobel = recoGen[isPandoraOG == 0]\n",
    "nuVertexAccuracy_isobel = nuVertexAccuracy[isPandoraOG == 0]"
   ]
  },
  {
   "cell_type": "code",
   "execution_count": null,
   "id": "b9cc81f1",
   "metadata": {},
   "outputs": [],
   "source": [
    "print('################################################')\n",
    "print('################   PANDORA     ################')\n",
    "print('################################################')\n",
    "\n",
    "Metrics.calculateMetrics_pandoraValidation(isTrack_pandora, trueVisibleGen_pandora, hasCorrectParent_pandora, recoGen_pandora)\n",
    "Metrics.calculateLeadingLeptonMetrics_pandoraValidation(trueVisibleGen_pandora, truePDG_pandora, recoGen_pandora)"
   ]
  },
  {
   "cell_type": "code",
   "execution_count": null,
   "id": "7a6e7af6",
   "metadata": {},
   "outputs": [],
   "source": [
    "print('################################################')\n",
    "print('#################   ISOBEL     #################')\n",
    "print('################################################')\n",
    "\n",
    "Metrics.calculateMetrics_pandoraValidation(isTrack_isobel, trueVisibleGen_isobel, hasCorrectParent_isobel, recoGen_isobel)\n",
    "Metrics.calculateLeadingLeptonMetrics_pandoraValidation(trueVisibleGen_isobel, truePDG_isobel, recoGen_isobel)"
   ]
  }
 ],
 "metadata": {
  "kernelspec": {
   "display_name": "Python 3 (ipykernel)",
   "language": "python",
   "name": "python3"
  },
  "language_info": {
   "codemirror_mode": {
    "name": "ipython",
    "version": 3
   },
   "file_extension": ".py",
   "mimetype": "text/x-python",
   "name": "python",
   "nbconvert_exporter": "python",
   "pygments_lexer": "ipython3",
   "version": "3.11.4"
  }
 },
 "nbformat": 4,
 "nbformat_minor": 5
}
