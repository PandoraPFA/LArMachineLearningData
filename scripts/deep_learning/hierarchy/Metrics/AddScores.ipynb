{
 "cells": [
  {
   "cell_type": "markdown",
   "id": "b93b7dfd",
   "metadata": {},
   "source": [
    "## Add Scores File\n",
    "\n",
    "written by Isobel Mawby (i.mawby1@lancaster.ac.uk)"
   ]
  },
  {
   "cell_type": "markdown",
   "id": "78d52305",
   "metadata": {},
   "source": [
    "<div class=\"alert alert-block alert-info\" style=\"font-size: 18px;\">\n",
    "    Imports\n",
    "</div>"
   ]
  },
  {
   "cell_type": "code",
   "execution_count": null,
   "id": "7438e27b",
   "metadata": {},
   "outputs": [],
   "source": [
    "import sys\n",
    "import os\n",
    "sys.path.insert(0, os.getcwd()[0:len(os.getcwd()) - 8])\n",
    "sys.path.insert(1, os.getcwd()[0:len(os.getcwd()) - 8] + '/PrimaryTier/')\n",
    "sys.path.insert(2, os.getcwd()[0:len(os.getcwd()) - 8] + '/LaterTier/')\n",
    "\n",
    "import uproot\n",
    "import numpy as np\n",
    "import math\n",
    "import torch\n",
    "\n",
    "import Utilities\n",
    "import PrimaryTierFileHelper\n",
    "import LaterTierFileHelper\n",
    "import Models"
   ]
  },
  {
   "cell_type": "markdown",
   "id": "3d044a99",
   "metadata": {},
   "source": [
    "<div class=\"alert alert-block alert-info\" style=\"font-size: 18px;\">\n",
    "    Please put the path to your validation file and set ouput file name\n",
    "</div>"
   ]
  },
  {
   "cell_type": "code",
   "execution_count": null,
   "id": "3a51d762",
   "metadata": {},
   "outputs": [],
   "source": [
    "fileName = sys.path[0] + '/files/hierarchy.root'\n",
    "outputFile = sys.path[0] + '/files/networkScores.npz'"
   ]
  },
  {
   "cell_type": "markdown",
   "id": "d7d7322d",
   "metadata": {},
   "source": [
    "<div class=\"alert alert-block alert-info\" style=\"font-size: 18px;\">\n",
    "    Load models.\n",
    "</div>"
   ]
  },
  {
   "cell_type": "code",
   "execution_count": null,
   "id": "9e1a311a",
   "metadata": {},
   "outputs": [],
   "source": [
    "# # Model paths\n",
    "PRIMARY_TRACK_BRANCH_MODEL_PATH = sys.path[0] + '/models/primary_track_branch_model'\n",
    "TRACK_TRACK_BRANCH_MODEL_PATH = sys.path[0] + '/models/track_track_branch_model'\n",
    "TRACK_SHOWER_BRANCH_MODEL_PATH = sys.path[0] + '/models/track_shower_branch_model'\n",
    "\n",
    "PRIMARY_TRACK_CLASSIFIER_MODEL_PATH = sys.path[0] + '/models/primary_track_classifier_model'\n",
    "PRIMARY_SHOWER_CLASSIFIER_MODEL_PATH = sys.path[0] + '/models/primary_shower_classifier_model'\n",
    "TRACK_TRACK_CLASSIFIER_MODEL_PATH = sys.path[0] + '/models/track_track_classifier_model'\n",
    "TRACK_SHOWER_CLASSIFIER_MODEL_PATH = sys.path[0] + '/models/track_shower_classifier_model'\n",
    "\n",
    "# Models\n",
    "primary_track_branch_model = torch.jit.load(PRIMARY_TRACK_BRANCH_MODEL_PATH)\n",
    "track_track_branch_model = torch.jit.load(TRACK_TRACK_BRANCH_MODEL_PATH)\n",
    "track_shower_branch_model = torch.jit.load(TRACK_SHOWER_BRANCH_MODEL_PATH)\n",
    "\n",
    "primary_track_classifier_model = torch.jit.load(PRIMARY_TRACK_CLASSIFIER_MODEL_PATH)\n",
    "primary_shower_classifier_model = torch.jit.load(PRIMARY_SHOWER_CLASSIFIER_MODEL_PATH)\n",
    "track_track_classifier_model = torch.jit.load(TRACK_TRACK_CLASSIFIER_MODEL_PATH)\n",
    "track_shower_classifier_model = torch.jit.load(TRACK_SHOWER_CLASSIFIER_MODEL_PATH)"
   ]
  },
  {
   "cell_type": "markdown",
   "id": "1550682f",
   "metadata": {},
   "source": [
    "<div class=\"alert alert-block alert-info\" style=\"font-size: 18px;\">\n",
    "    Pull out variables from trees\n",
    "</div>"
   ]
  },
  {
   "cell_type": "code",
   "execution_count": null,
   "id": "3d81489b",
   "metadata": {},
   "outputs": [],
   "source": [
    "# Event tree\n",
    "with uproot.open(f\"{fileName}:EventTree\") as eventTree:\n",
    "    eventBranches = eventTree.arrays()\n",
    "    event_eventID = np.array(eventBranches[\"EventID\"])\n",
    "    event_nRecoParticles = np.array(eventBranches[\"NRecoParticles\"])\n",
    "    event_nPrimaryTrackLinks = np.array(eventBranches[\"NPrimaryTrackLinks\"])\n",
    "    event_nPrimaryShowerLinks = np.array(eventBranches[\"NPrimaryShowerLinks\"])\n",
    "    event_nLaterTierTrackTrackLinks = np.array(eventBranches[\"NLaterTierTrackTrackLinks\"])\n",
    "    event_nLaterTierTrackShowerLinks = np.array(eventBranches[\"NLaterTierTrackShowerLinks\"])\n",
    "    \n",
    "# Primary tier track tree\n",
    "primaryTrack_nEntries, primaryTrack_variables, primaryTrack_particleID, primaryTrack_trueVisibleGeneration, primaryTrack_trueVisibleParentID, primaryTrack_truePDG = \\\n",
    "    PrimaryTierFileHelper.ReadTreeForValidation(True, fileName, True)\n",
    "\n",
    "# Primary tier shower tree  \n",
    "primaryShower_nEntries, primaryShower_variables, primaryShower_particleID, primaryShower_trueVisibleGeneration, primaryShower_trueVisibleParentID, primaryShower_truePDG = \\\n",
    "    PrimaryTierFileHelper.ReadTreeForValidation(False, fileName, True)\n",
    "\n",
    "# Later tier track-track\n",
    "trackTrack_nEntries, trackTrack_childID, trackTrack_parentID, trackTrack_variables, trackTrack_minNuVertexSep, trackTrack_separation3D = \\\n",
    "    LaterTierFileHelper.ReadTreeForValidation(True, fileName, True)\n",
    "\n",
    "# Later tier track-shower tree\n",
    "trackShower_nEntries, trackShower_childID, trackShower_parentID, trackShower_variables, trackShower_minNuVertexSep, trackShower_separation3D = \\\n",
    "    LaterTierFileHelper.ReadTreeForValidation(False, fileName, True)                                                          "
   ]
  },
  {
   "cell_type": "markdown",
   "id": "88ab031c",
   "metadata": {},
   "source": [
    "<div class=\"alert alert-block alert-info\" style=\"font-size: 18px;\">\n",
    "    Obtain model scores\n",
    "</div>"
   ]
  },
  {
   "cell_type": "code",
   "execution_count": null,
   "id": "eebe41fb",
   "metadata": {},
   "outputs": [],
   "source": [
    "primaryTrack_scores = Models.GetClassificationScore(primary_track_branch_model, primary_track_classifier_model, Models.primary_track_n_links, \\\n",
    "                                                    Models.primary_tier_n_orientation_indep_vars, Models.primary_tier_n_orientation_dep_vars, primaryTrack_variables)\n",
    "\n",
    "primaryShower_scores = primary_shower_classifier_model(torch.tensor(primaryShower_variables, dtype=torch.float)).reshape(-1).tolist()\n",
    "\n",
    "trackShower_scores = Models.GetClassificationScore(track_shower_branch_model, track_shower_classifier_model, Models.track_shower_n_links, \\\n",
    "                                                   Models.later_tier_n_orientation_indep_vars, Models.later_tier_n_orientation_dep_vars, trackShower_variables)\n",
    "\n",
    "trackTrack_scores = Models.GetClassificationScore(track_track_branch_model, track_track_classifier_model, Models.track_track_n_links, \\\n",
    "                                                  Models.later_tier_n_orientation_indep_vars, Models.later_tier_n_orientation_dep_vars, trackTrack_variables)"
   ]
  },
  {
   "cell_type": "markdown",
   "id": "90ff2753",
   "metadata": {},
   "source": [
    "<div class=\"alert alert-block alert-info\" style=\"font-size: 18px;\">\n",
    "    Package up into events\n",
    "</div>"
   ]
  },
  {
   "cell_type": "code",
   "execution_count": null,
   "id": "44b2dbb4",
   "metadata": {},
   "outputs": [],
   "source": [
    "# Event arrays\n",
    "event_particleID = []\n",
    "event_trueGen = []\n",
    "event_trueParentID = []\n",
    "event_truePDG = []\n",
    "event_trackScore = []\n",
    "event_primary_scores = []\n",
    "event_laterTier_parentID = []\n",
    "event_laterTier_childID = []\n",
    "event_laterTier_minNuVertexSep = []\n",
    "event_laterTier_separation3D = []\n",
    "event_laterTier_scores = [] \n",
    "    \n",
    "# Initialise counters    \n",
    "iPrimaryTrack = 0\n",
    "iPrimaryShower = 0\n",
    "iTrackShower = 0    \n",
    "iTrackTrack = 0\n",
    "\n",
    "for iEvent in range(event_eventID.shape[0]) :    \n",
    "    # primary track\n",
    "    nPrimaryTrackElements = int(event_nPrimaryTrackLinks[iEvent] / Models.primary_track_n_links)    \n",
    "    event_particleID.append(primaryTrack_particleID[iPrimaryTrack:iPrimaryTrack + nPrimaryTrackElements].tolist())\n",
    "    event_trueGen.append(primaryTrack_trueVisibleGeneration[iPrimaryTrack:iPrimaryTrack + nPrimaryTrackElements].tolist())\n",
    "    event_trueParentID.append(primaryTrack_trueVisibleParentID[iPrimaryTrack:iPrimaryTrack + nPrimaryTrackElements].tolist())\n",
    "    event_truePDG.append(primaryTrack_truePDG[iPrimaryTrack:iPrimaryTrack + nPrimaryTrackElements].tolist())\n",
    "    event_trackScore.append([1.0] * nPrimaryTrackElements)\n",
    "    event_primary_scores.append(primaryTrack_scores[iPrimaryTrack:iPrimaryTrack + nPrimaryTrackElements]) \n",
    "    iPrimaryTrack += nPrimaryTrackElements    \n",
    "    # primary shower\n",
    "    nPrimaryShowerElements = int(event_nPrimaryShowerLinks[iEvent] / Models.primary_shower_n_links)\n",
    "    event_particleID[-1].extend(primaryShower_particleID[iPrimaryShower:iPrimaryShower + nPrimaryShowerElements].tolist())\n",
    "    event_trueGen[-1].extend(primaryShower_trueVisibleGeneration[iPrimaryShower:iPrimaryShower + nPrimaryShowerElements].tolist())\n",
    "    event_trueParentID[-1].extend(primaryShower_trueVisibleParentID[iPrimaryShower:iPrimaryShower + nPrimaryShowerElements].tolist())\n",
    "    event_truePDG[-1].extend(primaryShower_truePDG[iPrimaryShower:iPrimaryShower + nPrimaryShowerElements].tolist())\n",
    "    event_trackScore[-1].extend([0.0] * nPrimaryShowerElements)\n",
    "    event_primary_scores[-1].extend(primaryShower_scores[iPrimaryShower:iPrimaryShower + nPrimaryShowerElements]) \n",
    "    iPrimaryShower += nPrimaryShowerElements    \n",
    "    # track-track\n",
    "    nTrackTrackElements = int(event_nLaterTierTrackTrackLinks[iEvent] / Models.track_track_n_links)    \n",
    "    event_laterTier_parentID.append(trackTrack_parentID[iTrackTrack:iTrackTrack + nTrackTrackElements].tolist())\n",
    "    event_laterTier_childID.append(trackTrack_childID[iTrackTrack:iTrackTrack + nTrackTrackElements].tolist())\n",
    "    event_laterTier_minNuVertexSep.append(trackTrack_minNuVertexSep[iTrackTrack:iTrackTrack + nTrackTrackElements].tolist())\n",
    "    event_laterTier_separation3D.append(trackTrack_separation3D[iTrackTrack:iTrackTrack + nTrackTrackElements].tolist())\n",
    "    event_laterTier_scores.append(trackTrack_scores[iTrackTrack:iTrackTrack + nTrackTrackElements])\n",
    "    iTrackTrack += nTrackTrackElements    \n",
    "    # track-shower\n",
    "    nTrackShowerElements = int(event_nLaterTierTrackShowerLinks[iEvent] / Models.track_shower_n_links)    \n",
    "    event_laterTier_parentID[-1].extend(trackShower_parentID[iTrackShower:iTrackShower + nTrackShowerElements].tolist())\n",
    "    event_laterTier_childID[-1].extend(trackShower_childID[iTrackShower:iTrackShower + nTrackShowerElements].tolist())    \n",
    "    event_laterTier_minNuVertexSep[-1].extend(trackShower_minNuVertexSep[iTrackShower:iTrackShower + nTrackShowerElements].tolist())\n",
    "    event_laterTier_separation3D[-1].extend(trackShower_separation3D[iTrackShower:iTrackShower + nTrackShowerElements].tolist())        \n",
    "    event_laterTier_scores[-1].extend(trackShower_scores[iTrackShower:iTrackShower + nTrackShowerElements])\n",
    "    iTrackShower += nTrackShowerElements  "
   ]
  },
  {
   "cell_type": "markdown",
   "id": "d0c9f53b",
   "metadata": {},
   "source": [
    "<div class=\"alert alert-block alert-info\" style=\"font-size: 18px;\">\n",
    "    In order to save as numpy arrays, we have to pad the vectors. First create link masks. \n",
    "</div>"
   ]
  },
  {
   "cell_type": "code",
   "execution_count": null,
   "id": "4facf1c0",
   "metadata": {},
   "outputs": [],
   "source": [
    "# Primary links\n",
    "primary_link_max_length = Utilities.get_max_length(event_particleID)\n",
    "print('primary_link_max_length:', primary_link_max_length)\n",
    "primary_link_mask_main = [Utilities.create_mask(entry, primary_link_max_length) for entry in event_particleID]\n",
    "primary_link_mask_main = np.array(primary_link_mask_main)\n",
    "\n",
    "# Later tier links\n",
    "laterTier_link_max_length = Utilities.get_max_length(event_laterTier_parentID)\n",
    "print('laterTier_link_max_length:', laterTier_link_max_length)\n",
    "laterTier_link_mask_main = [Utilities.create_mask(entry, laterTier_link_max_length) for entry in event_laterTier_parentID]\n",
    "laterTier_link_mask_main = np.array(laterTier_link_mask_main)"
   ]
  },
  {
   "cell_type": "markdown",
   "id": "41b7741b",
   "metadata": {},
   "source": [
    "<div class=\"alert alert-block alert-info\" style=\"font-size: 18px;\">\n",
    "    Now pad the arrays.\n",
    "</div>"
   ]
  },
  {
   "cell_type": "code",
   "execution_count": null,
   "id": "2e1f1dd6",
   "metadata": {},
   "outputs": [],
   "source": [
    "primary_particleID_main = Utilities.process_array(event_particleID, primary_link_max_length)\n",
    "primary_trueGen_main = Utilities.process_array(event_trueGen, primary_link_max_length)\n",
    "primary_trueParentID_main = Utilities.process_array(event_trueParentID, primary_link_max_length)\n",
    "primary_truePDG_main = Utilities.process_array(event_truePDG, primary_link_max_length)\n",
    "primary_trackScore_main = Utilities.process_array(event_trackScore, primary_link_max_length)\n",
    "primary_score_main = Utilities.process_array(event_primary_scores, primary_link_max_length)\n",
    "laterTier_parentID_main = Utilities.process_array(event_laterTier_parentID, laterTier_link_max_length)\n",
    "laterTier_childID_main = Utilities.process_array(event_laterTier_childID, laterTier_link_max_length)\n",
    "laterTier_minNuVertexSep_main = Utilities.process_array(event_laterTier_minNuVertexSep, laterTier_link_max_length)\n",
    "laterTier_separation3D_main = Utilities.process_array(event_laterTier_separation3D, laterTier_link_max_length)\n",
    "laterTier_score_main = Utilities.process_array(event_laterTier_scores, laterTier_link_max_length)"
   ]
  },
  {
   "cell_type": "markdown",
   "id": "590d7ff6",
   "metadata": {},
   "source": [
    "<div class=\"alert alert-block alert-info\" style=\"font-size: 18px;\">\n",
    "    Save!\n",
    "</div>"
   ]
  },
  {
   "cell_type": "code",
   "execution_count": null,
   "id": "e634096a",
   "metadata": {},
   "outputs": [],
   "source": [
    "np.savez(outputFile, \\\n",
    "         primary_link_mask_main = primary_link_mask_main, \\\n",
    "         primary_particleID_main = primary_particleID_main, \\\n",
    "         primary_trueGen_main = primary_trueGen_main, \\\n",
    "         primary_trueParentID_main = primary_trueParentID_main, \\\n",
    "         primary_truePDG_main = primary_truePDG_main, \\\n",
    "         primary_trackScore_main = primary_trackScore_main, \\\n",
    "         primary_score_main = primary_score_main, \\\n",
    "         laterTier_link_mask_main = laterTier_link_mask_main, \\\n",
    "         laterTier_parentID_main = laterTier_parentID_main, \\\n",
    "         laterTier_childID_main = laterTier_childID_main, \\\n",
    "         laterTier_nuVertexSep_main = laterTier_minNuVertexSep_main, \\\n",
    "         laterTier_separation3D_main = laterTier_separation3D_main, \\\n",
    "         laterTier_score_main = laterTier_score_main)"
   ]
  }
 ],
 "metadata": {
  "kernelspec": {
   "display_name": "Python 3 (ipykernel)",
   "language": "python",
   "name": "python3"
  },
  "language_info": {
   "codemirror_mode": {
    "name": "ipython",
    "version": 3
   },
   "file_extension": ".py",
   "mimetype": "text/x-python",
   "name": "python",
   "nbconvert_exporter": "python",
   "pygments_lexer": "ipython3",
   "version": "3.11.4"
  }
 },
 "nbformat": 4,
 "nbformat_minor": 5
}
