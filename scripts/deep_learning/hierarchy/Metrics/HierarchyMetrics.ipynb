{
 "cells": [
  {
   "cell_type": "code",
   "execution_count": null,
   "id": "8767604d",
   "metadata": {},
   "outputs": [],
   "source": [
    "###########################################################\n",
    "# Imports\n",
    "###########################################################\n",
    "import sys\n",
    "import os\n",
    "sys.path.insert(0, os.getcwd()[0:len(os.getcwd()) - 8])\n",
    "\n",
    "import numpy as np\n",
    "import matplotlib.pyplot as plt\n",
    "import Metrics\n",
    "import Padding\n",
    "import sys\n",
    "import os"
   ]
  },
  {
   "cell_type": "code",
   "execution_count": null,
   "id": "3cb6b0e2",
   "metadata": {},
   "outputs": [],
   "source": [
    "#############################\n",
    "# Define file\n",
    "#############################\n",
    "\n",
    "inputFile = sys.path[0] + '/files/newHierarchy.npz'"
   ]
  },
  {
   "cell_type": "code",
   "execution_count": null,
   "id": "3fb328fe",
   "metadata": {},
   "outputs": [],
   "source": [
    "#############################\n",
    "# Read file\n",
    "#############################\n",
    "\n",
    "print('Reading file: ', str(inputFile),', This may take a while...')\n",
    "\n",
    "data = np.load(inputFile)\n",
    "\n",
    "# Particle level information\n",
    "particleMask_in = data['primary_link_mask']\n",
    "trueVisibleGeneration_in = data['trueVisibleGeneration']\n",
    "trueVisibleParentID_in = data['trueVisibleParentID']\n",
    "trackShowerScore_in = data['trackShowerScore']\n",
    "newGenPass1_in = data['new_gen_pass1']\n",
    "newParentIDPass1_in = data['new_parentID_pass1']\n",
    "newGenPass2_in = data['new_gen_pass2']\n",
    "newParentIDPass2_in = data['new_parentID_pass2']\n",
    "newGenPass3_in = data['new_gen_pass3']\n",
    "newParentIDPass3_in = data['new_parentID_pass3']\n",
    "newGenPass4_in = data['new_gen_pass4']\n",
    "newParentIDPass4_in = data['new_parentID_pass4']\n",
    "newGenPass5_in = data['new_gen_pass5']\n",
    "newParentIDPass5_in = data['new_parentID_pass5']\n",
    "\n",
    "nEntries = len(particleMask_in)"
   ]
  },
  {
   "cell_type": "code",
   "execution_count": null,
   "id": "642cfdde",
   "metadata": {},
   "outputs": [],
   "source": [
    "########################################\n",
    "# Metrics after primary tier building\n",
    "########################################\n",
    "\n",
    "Metrics.calculateHierarchyMetrics_trainValidation(nEntries, particleMask_in, trackShowerScore_in, trueVisibleGeneration_in, trueVisibleParentID_in, newParentIDPass1_in, newGenPass1_in)\n",
    "#Metrics.calculateMetrics_leading_lepton(nEntries, particleMask_in, nSpacepoints_in, pfpTruePDG_in, trueVisibleGeneration_in, isNC_in, nuPDG_in, newGenPass1_in)\n"
   ]
  },
  {
   "cell_type": "code",
   "execution_count": null,
   "id": "b57f35ec",
   "metadata": {},
   "outputs": [],
   "source": [
    "########################################\n",
    "# Metrics after later tier building\n",
    "########################################\n",
    "\n",
    "Metrics.calculateHierarchyMetrics_trainValidation(nEntries, particleMask_in, trackShowerScore_in, trueVisibleGeneration_in, trueVisibleParentID_in, newParentIDPass2_in, newGenPass2_in)"
   ]
  },
  {
   "cell_type": "code",
   "execution_count": null,
   "id": "cb62a144",
   "metadata": {},
   "outputs": [],
   "source": [
    "########################################\n",
    "# Metrics after primary building - pass 2\n",
    "########################################\n",
    "\n",
    "Metrics.calculateHierarchyMetrics_trainValidation(nEntries, particleMask_in, trackShowerScore_in, trueVisibleGeneration_in, trueVisibleParentID_in, newParentIDPass3_in, newGenPass3_in)"
   ]
  },
  {
   "cell_type": "code",
   "execution_count": null,
   "id": "aec63f70",
   "metadata": {},
   "outputs": [],
   "source": [
    "########################################\n",
    "# Metrics after later tier building - pass 2\n",
    "########################################\n",
    "Metrics.calculateHierarchyMetrics_trainValidation(nEntries, particleMask_in, trackShowerScore_in, trueVisibleGeneration_in, trueVisibleParentID_in, newParentIDPass4_in, newGenPass4_in)\n"
   ]
  },
  {
   "cell_type": "code",
   "execution_count": null,
   "id": "ac397d21",
   "metadata": {},
   "outputs": [],
   "source": [
    "########################################\n",
    "# Final metrics\n",
    "########################################\n",
    "Metrics.calculateHierarchyMetrics_trainValidation(nEntries, particleMask_in, trackShowerScore_in, trueVisibleGeneration_in, trueVisibleParentID_in, newParentIDPass5_in, newGenPass5_in)\n",
    "\n",
    "#Metrics.calculateMetrics_leading_lepton(nEntries, particleMask_in, nSpacepoints_in, pfpTruePDG_in, trueVisibleGeneration_in, isNC_in, nuPDG_in, newGenPass5_in)"
   ]
  }
 ],
 "metadata": {
  "kernelspec": {
   "display_name": "Python 3 (ipykernel)",
   "language": "python",
   "name": "python3"
  },
  "language_info": {
   "codemirror_mode": {
    "name": "ipython",
    "version": 3
   },
   "file_extension": ".py",
   "mimetype": "text/x-python",
   "name": "python",
   "nbconvert_exporter": "python",
   "pygments_lexer": "ipython3",
   "version": "3.11.4"
  }
 },
 "nbformat": 4,
 "nbformat_minor": 5
}
