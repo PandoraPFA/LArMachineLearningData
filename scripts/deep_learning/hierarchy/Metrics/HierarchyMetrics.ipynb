{
 "cells": [
  {
   "cell_type": "markdown",
   "id": "727bc30d",
   "metadata": {},
   "source": [
    "## Hierarchy Metrics File\n",
    "\n",
    "written by Isobel Mawby (i.mawby1@lancaster.ac.uk)"
   ]
  },
  {
   "cell_type": "markdown",
   "id": "edaf709d",
   "metadata": {},
   "source": [
    "<div class=\"alert alert-block alert-info\" style=\"font-size: 18px;\">\n",
    "    Imports\n",
    "</div>"
   ]
  },
  {
   "cell_type": "code",
   "execution_count": null,
   "id": "8767604d",
   "metadata": {},
   "outputs": [],
   "source": [
    "import sys\n",
    "import os\n",
    "sys.path.insert(0, os.getcwd()[0:len(os.getcwd()) - 8])\n",
    "\n",
    "import numpy as np\n",
    "import matplotlib.pyplot as plt\n",
    "import sys\n",
    "import os\n",
    "import Metrics"
   ]
  },
  {
   "cell_type": "markdown",
   "id": "b8962cf9",
   "metadata": {},
   "source": [
    "<div class=\"alert alert-block alert-info\" style=\"font-size: 18px;\">\n",
    "    Please put the path to your input file (created from TuneCut.ipynb)\n",
    "</div>"
   ]
  },
  {
   "cell_type": "code",
   "execution_count": null,
   "id": "3cb6b0e2",
   "metadata": {},
   "outputs": [],
   "source": [
    "inputFile = sys.path[0] + '/files/newHierarchy.npz'"
   ]
  },
  {
   "cell_type": "markdown",
   "id": "12af35b6",
   "metadata": {},
   "source": [
    "<div class=\"alert alert-block alert-info\" style=\"font-size: 18px;\">\n",
    "    Read file\n",
    "</div>"
   ]
  },
  {
   "cell_type": "code",
   "execution_count": null,
   "id": "3fb328fe",
   "metadata": {},
   "outputs": [],
   "source": [
    "data = np.load(inputFile)\n",
    "\n",
    "particleMask_in = data['primary_link_mask']\n",
    "trueVisibleGeneration_in = data['trueVisibleGeneration']\n",
    "trueVisibleParentID_in = data['trueVisibleParentID']\n",
    "truePDG_in = data['truePDG']\n",
    "trackShowerScore_in = data['trackShowerScore']\n",
    "newGenPass1_in = data['new_gen_pass1']\n",
    "newParentIDPass1_in = data['new_parentID_pass1']\n",
    "newGenPass2_in = data['new_gen_pass2']\n",
    "newParentIDPass2_in = data['new_parentID_pass2']\n",
    "newGenPass3_in = data['new_gen_pass3']\n",
    "newParentIDPass3_in = data['new_parentID_pass3']\n",
    "newGenPass4_in = data['new_gen_pass4']\n",
    "newParentIDPass4_in = data['new_parentID_pass4']\n",
    "newGenPass5_in = data['new_gen_pass5']\n",
    "newParentIDPass5_in = data['new_parentID_pass5']"
   ]
  },
  {
   "cell_type": "markdown",
   "id": "dca9f703",
   "metadata": {},
   "source": [
    "<div class=\"alert alert-block alert-info\" style=\"font-size: 18px;\">\n",
    "    Metrics after primary tier building\n",
    "</div>"
   ]
  },
  {
   "cell_type": "code",
   "execution_count": null,
   "id": "642cfdde",
   "metadata": {},
   "outputs": [],
   "source": [
    "Metrics.calculateHierarchyMetrics_trainValidation(particleMask_in, trackShowerScore_in, trueVisibleGeneration_in, trueVisibleParentID_in, newParentIDPass1_in, newGenPass1_in)\n",
    "Metrics.calculateHierarchyMetrics_leptonValidation(particleMask_in, trueVisibleGeneration_in, truePDG_in, newGenPass1_in)"
   ]
  },
  {
   "cell_type": "markdown",
   "id": "9f851141",
   "metadata": {},
   "source": [
    "<div class=\"alert alert-block alert-info\" style=\"font-size: 18px;\">\n",
    "    Metrics after later tier building\n",
    "</div>"
   ]
  },
  {
   "cell_type": "code",
   "execution_count": null,
   "id": "b57f35ec",
   "metadata": {},
   "outputs": [],
   "source": [
    "Metrics.calculateHierarchyMetrics_trainValidation(particleMask_in, trackShowerScore_in, trueVisibleGeneration_in, trueVisibleParentID_in, newParentIDPass2_in, newGenPass2_in)"
   ]
  },
  {
   "cell_type": "markdown",
   "id": "a27438fc",
   "metadata": {},
   "source": [
    "<div class=\"alert alert-block alert-info\" style=\"font-size: 18px;\">\n",
    "    Metrics after primary building - pass 2\n",
    "</div>"
   ]
  },
  {
   "cell_type": "code",
   "execution_count": null,
   "id": "cb62a144",
   "metadata": {},
   "outputs": [],
   "source": [
    "Metrics.calculateHierarchyMetrics_trainValidation(particleMask_in, trackShowerScore_in, trueVisibleGeneration_in, trueVisibleParentID_in, newParentIDPass3_in, newGenPass3_in)\n",
    "Metrics.calculateHierarchyMetrics_leptonValidation(particleMask_in, trueVisibleGeneration_in, truePDG_in, newGenPass3_in)"
   ]
  },
  {
   "cell_type": "markdown",
   "id": "8f1606f5",
   "metadata": {},
   "source": [
    "<div class=\"alert alert-block alert-info\" style=\"font-size: 18px;\">\n",
    "    Metrics after later tier building - pass 2\n",
    "</div>"
   ]
  },
  {
   "cell_type": "code",
   "execution_count": null,
   "id": "aec63f70",
   "metadata": {},
   "outputs": [],
   "source": [
    "Metrics.calculateHierarchyMetrics_trainValidation(particleMask_in, trackShowerScore_in, trueVisibleGeneration_in, trueVisibleParentID_in, newParentIDPass4_in, newGenPass4_in)"
   ]
  },
  {
   "cell_type": "markdown",
   "id": "4530595c",
   "metadata": {},
   "source": [
    "<div class=\"alert alert-block alert-info\" style=\"font-size: 18px;\">\n",
    "    Final metrics\n",
    "</div>"
   ]
  },
  {
   "cell_type": "code",
   "execution_count": null,
   "id": "ac397d21",
   "metadata": {},
   "outputs": [],
   "source": [
    "Metrics.calculateHierarchyMetrics_trainValidation(particleMask_in, trackShowerScore_in, trueVisibleGeneration_in, trueVisibleParentID_in, newParentIDPass5_in, newGenPass5_in)\n",
    "Metrics.calculateHierarchyMetrics_leptonValidation(particleMask_in, trueVisibleGeneration_in, truePDG_in, newGenPass5_in)"
   ]
  }
 ],
 "metadata": {
  "kernelspec": {
   "display_name": "Python 3 (ipykernel)",
   "language": "python",
   "name": "python3"
  },
  "language_info": {
   "codemirror_mode": {
    "name": "ipython",
    "version": 3
   },
   "file_extension": ".py",
   "mimetype": "text/x-python",
   "name": "python",
   "nbconvert_exporter": "python",
   "pygments_lexer": "ipython3",
   "version": "3.11.4"
  }
 },
 "nbformat": 4,
 "nbformat_minor": 5
}
