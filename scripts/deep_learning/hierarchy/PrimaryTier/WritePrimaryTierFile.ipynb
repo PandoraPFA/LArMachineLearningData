{
 "cells": [
  {
   "cell_type": "code",
   "execution_count": null,
   "id": "63f5fa34",
   "metadata": {},
   "outputs": [],
   "source": [
    "###########################################################\n",
    "# Imports\n",
    "###########################################################\n",
    "import sys\n",
    "import os\n",
    "sys.path.insert(0, os.getcwd()[0:len(os.getcwd()) - 11])\n",
    "\n",
    "import math\n",
    "import numpy as np\n",
    "import sklearn \n",
    "import matplotlib.pyplot as plt\n",
    "\n",
    "import PrimaryTierFileHelper"
   ]
  },
  {
   "cell_type": "code",
   "execution_count": null,
   "id": "108a4be0",
   "metadata": {},
   "outputs": [],
   "source": [
    "###########################################################\n",
    "# Define mode\n",
    "###########################################################\n",
    "isTrackMode = True"
   ]
  },
  {
   "cell_type": "code",
   "execution_count": null,
   "id": "d50c9555",
   "metadata": {},
   "outputs": [],
   "source": [
    "###########################################################\n",
    "# Define file\n",
    "###########################################################\n",
    "\n",
    "fileName = sys.path[0] + '/files/hierarchy_TRAIN.root'\n",
    "\n",
    "if (isTrackMode) : \n",
    "    trainVarFile = sys.path[0] + '/files/hierarchy_TRAIN_track.npz'\n",
    "else :\n",
    "    trainVarFile = sys.path[0] + '/files/hierarchy_TRAIN_shower.npz'\n",
    "\n",
    "print('fileName:', fileName)\n",
    "print('trainVarFile:', trainVarFile)"
   ]
  },
  {
   "cell_type": "code",
   "execution_count": null,
   "id": "55f45f92",
   "metadata": {
    "scrolled": true
   },
   "outputs": [],
   "source": [
    "###########################################################\n",
    "# Read link tree\n",
    "###########################################################\n",
    "\n",
    "if (isTrackMode) :\n",
    "    nLinks, variables, y, isTruePrimaryLink, isLinkOrientationCorrect, trainingCutDCA = PrimaryTierFileHelper.readTreeGroupLinks_track(fileName, normalise=True)\n",
    "else :\n",
    "    nLinks, variables, y, isTruePrimaryLink, isLinkOrientationCorrect, trainingCutDCA = PrimaryTierFileHelper.readTreeGroupLinks_shower(fileName, normalise=True)"
   ]
  },
  {
   "cell_type": "code",
   "execution_count": null,
   "id": "2d49c7ff",
   "metadata": {},
   "outputs": [],
   "source": [
    "###########################################################\n",
    "# Define some plotting functions\n",
    "###########################################################\n",
    "\n",
    "def drawSignalBackground(variable, truth_labels, graph_label) :\n",
    "    \n",
    "    signal_mask_vis = (truth_labels == 1).reshape(-1)\n",
    "    background_mask_vis = (truth_labels == 0).reshape(-1)\n",
    "\n",
    "    variable_signal = variable[signal_mask_vis].reshape(-1)\n",
    "    variable_background = variable[background_mask_vis].reshape(-1)\n",
    "\n",
    "    signal_weights = 1.0 / float(variable_signal.shape[0])\n",
    "    signal_weights = np.ones(variable_signal.shape[0]) * signal_weights\n",
    "    \n",
    "    background_weights = 1.0 / float(variable_background.shape[0])\n",
    "    background_weights = np.ones(variable_background.shape[0]) * background_weights   \n",
    "        \n",
    "    plt.hist(variable_signal, bins=50, color='blue', weights=signal_weights, label='signal', fill=False, histtype='step')\n",
    "    plt.hist(variable_background, bins=50, color='red', weights=background_weights, label='background', fill=False, histtype='step')\n",
    "    plt.title(graph_label)\n",
    "    plt.xlabel(graph_label)\n",
    "    plt.legend()\n",
    "    plt.grid(True)\n",
    "    plt.show()   \n",
    "\n",
    "def drawSignalBackgroundGroup_track(variable0, variable1, truth_link_orientation, truth_is_correct, graph_label) :\n",
    "    \n",
    "    signal_mask_0 = np.logical_and((truth_link_orientation[:,0] == 1), truth_is_correct).reshape(-1)\n",
    "    signal_mask_1 = np.logical_and((truth_link_orientation[:,1] == 1), truth_is_correct).reshape(-1)\n",
    "    wo_mask_0 = np.logical_and((truth_link_orientation[:,0] == 0), truth_is_correct).reshape(-1)\n",
    "    wo_mask_1 = np.logical_and((truth_link_orientation[:,1] == 0), truth_is_correct).reshape(-1)\n",
    "    background_mask = (truth_is_correct == 0).reshape(-1)\n",
    "    \n",
    "    variable_signal_0 = variable0[signal_mask_0].reshape(-1)\n",
    "    variable_signal_1 = variable1[signal_mask_1].reshape(-1)\n",
    "    variable_wo_0 = variable0[wo_mask_0].reshape(-1)\n",
    "    variable_wo_1 = variable1[wo_mask_1].reshape(-1)\n",
    "    variable_background_0 = variable0[background_mask].reshape(-1)\n",
    "    variable_background_1 = variable0[background_mask].reshape(-1)\n",
    "    \n",
    "    variable_signal = np.concatenate((variable_signal_0, variable_signal_1))\n",
    "    variable_wo = np.concatenate((variable_wo_0, variable_wo_1))\n",
    "    variable_background = np.concatenate((variable_background_0, variable_background_1))\n",
    "    \n",
    "    #variable_signal = variable_signal[variable_signal > -9000]\n",
    "    #variable_wo = variable_wo[variable_wo > -9000]\n",
    "    #variable_background = variable_background[variable_background > -9000]\n",
    "    \n",
    "    signal_weights = 1.0 / float(variable_signal.shape[0])\n",
    "    signal_weights = np.ones(variable_signal.shape[0]) * signal_weights\n",
    "    \n",
    "    wo_weights = 1.0 / float(variable_wo.shape[0])\n",
    "    wo_weights = np.ones(variable_wo.shape[0]) * wo_weights\n",
    "    \n",
    "    background_weights = 1.0 / float(variable_background.shape[0])\n",
    "    background_weights = np.ones(variable_background.shape[0]) * background_weights  \n",
    "        \n",
    "    plt.hist(variable_signal, bins=50, color='blue', weights=signal_weights, label='signal', fill=False, histtype='step')\n",
    "    plt.hist(variable_wo, bins=50, color='orange', weights=wo_weights, label='wrong orientation', fill=False, histtype='step')\n",
    "    plt.hist(variable_background, bins=50, color='red', weights=background_weights, label='background', fill=False, histtype='step')\n",
    "    plt.title(graph_label)\n",
    "    plt.xlabel(graph_label)\n",
    "    plt.legend()\n",
    "    plt.grid(True)\n",
    "    plt.show()   "
   ]
  },
  {
   "cell_type": "code",
   "execution_count": null,
   "id": "a153002c",
   "metadata": {},
   "outputs": [],
   "source": []
  },
  {
   "cell_type": "code",
   "execution_count": null,
   "id": "717bac58",
   "metadata": {
    "scrolled": false
   },
   "outputs": [],
   "source": [
    "# 0 - primaryNSpacepoints\n",
    "# 1, 9 - primaryNuVertexSeparation\n",
    "# 2, 10 - primaryStartRegionNHits\n",
    "# 3, 11 - primaryStartRegionNParticles\n",
    "# 4, 12 - primaryDCA\n",
    "# 5, 13 - primaryConnectionExtrapDistance \n",
    "# 6, 14 - primaryIsPOIClosestToNu\n",
    "# 7, 15 - primaryClosestParentL\n",
    "# 8, 16 - primaryClosestParentT\n",
    "    \n",
    "drawSignalBackground(variables[:, 0], isTruePrimaryLink, \"nSpacepoints\")\n",
    "\n",
    "if (isTrackMode) :\n",
    "    drawSignalBackgroundGroup_track(variables[:, 1], variables[:, 9], isLinkOrientationCorrect, isTruePrimaryLink, 'primaryNuVertexSeparation')\n",
    "    drawSignalBackgroundGroup_track(variables[:, 2], variables[:, 10], isLinkOrientationCorrect, isTruePrimaryLink, 'primaryStartRegionNHits')\n",
    "    drawSignalBackgroundGroup_track(variables[:, 3], variables[:, 11], isLinkOrientationCorrect, isTruePrimaryLink, 'primaryStartRegionNParticles')    \n",
    "    drawSignalBackgroundGroup_track(variables[:, 4], variables[:, 12], isLinkOrientationCorrect, isTruePrimaryLink, 'primaryDCA')    \n",
    "    drawSignalBackgroundGroup_track(variables[:, 5], variables[:, 13], isLinkOrientationCorrect, isTruePrimaryLink, 'primaryConnectionExtrapDistance')   \n",
    "    drawSignalBackgroundGroup_track(variables[:, 6], variables[:, 14], isLinkOrientationCorrect, isTruePrimaryLink, 'primaryIsPOIClosestToNu') \n",
    "    drawSignalBackgroundGroup_track(variables[:, 7], variables[:, 15], isLinkOrientationCorrect, isTruePrimaryLink, 'primaryClosestParentL') \n",
    "    drawSignalBackgroundGroup_track(variables[:, 8], variables[:, 16], isLinkOrientationCorrect, isTruePrimaryLink, 'primaryClosestParentT') \n",
    "else :\n",
    "    drawSignalBackground(variables[:, 1], isTruePrimaryLink, 'primaryNuVertexSeparation')\n",
    "    drawSignalBackground(variables[:, 2], isTruePrimaryLink, 'primaryStartRegionNHits')\n",
    "    drawSignalBackground(variables[:, 3], isTruePrimaryLink, 'primaryStartRegionNParticles')    \n",
    "    drawSignalBackground(variables[:, 4], isTruePrimaryLink, 'primaryDCA')    \n",
    "    drawSignalBackground(variables[:, 5], isTruePrimaryLink, 'primaryConnectionExtrapDistance')\n",
    "    drawSignalBackground(variables[:, 6], isTruePrimaryLink, 'primaryIsPOIClosestToNu')\n",
    "    drawSignalBackground(variables[:, 7], isTruePrimaryLink, 'primaryClosestParentL') \n",
    "    drawSignalBackground(variables[:, 8], isTruePrimaryLink, 'primaryClosestParentT') "
   ]
  },
  {
   "cell_type": "code",
   "execution_count": null,
   "id": "b9f8b0ab",
   "metadata": {},
   "outputs": [],
   "source": [
    "drawSignalBackground(np.array(trainingCutDCA), isTruePrimaryLink, \"trainingCutDCA\")"
   ]
  },
  {
   "cell_type": "code",
   "execution_count": null,
   "id": "42a09895",
   "metadata": {},
   "outputs": [],
   "source": [
    "###########################################################\n",
    "# This should shuffle things so that the indicies are still linked\n",
    "###########################################################\n",
    "variables, y, isTruePrimaryLink, trainingCutDCA = sklearn.utils.shuffle(variables, y, isTruePrimaryLink, trainingCutDCA)"
   ]
  },
  {
   "cell_type": "code",
   "execution_count": null,
   "id": "b8c45602",
   "metadata": {},
   "outputs": [],
   "source": [
    "###########################################################\n",
    "# Write file\n",
    "###########################################################\n",
    "\n",
    "ntest = math.floor(nLinks * 0.1)\n",
    "ntrain = math.floor(nLinks * 0.9)\n",
    "\n",
    "print('ntest: ', ntest)\n",
    "print('ntrain: ', ntrain)\n",
    "    \n",
    "variables_train = variables[:ntrain]\n",
    "variables_test = variables[ntrain:]\n",
    "\n",
    "y_train = y[:ntrain]\n",
    "y_test = y[ntrain:]\n",
    "\n",
    "isTruePrimaryLink_train = isTruePrimaryLink[:ntrain]\n",
    "isTruePrimaryLink_test = isTruePrimaryLink[ntrain:]\n",
    "\n",
    "trainingCutDCA_train = trainingCutDCA[:ntrain]\n",
    "trainingCutDCA_test = trainingCutDCA[ntrain:]\n",
    "    \n",
    "np.savez(trainVarFile,\n",
    "         variables_train=variables_train, y_train=y_train, isTruePrimaryLink_train=isTruePrimaryLink_train, trainingCutDCA_train=trainingCutDCA_train,\n",
    "         variables_test=variables_test, y_test=y_test, isTruePrimaryLink_test=isTruePrimaryLink_test, trainingCutDCA_test=trainingCutDCA_test)"
   ]
  },
  {
   "cell_type": "code",
   "execution_count": null,
   "id": "e53cfcef",
   "metadata": {},
   "outputs": [],
   "source": [
    "print('variables_train: ', variables_train.shape)    \n",
    "print('variables_test: ', variables_test.shape)  \n",
    "\n",
    "print('y_train: ', y_train.shape)    \n",
    "print('y_test: ', y_test.shape)  \n",
    "\n",
    "print('isTruePrimaryLink_train:', isTruePrimaryLink_train.shape)\n",
    "print('isTruePrimaryLink_test:', isTruePrimaryLink_test.shape)"
   ]
  }
 ],
 "metadata": {
  "kernelspec": {
   "display_name": "Python 3 (ipykernel)",
   "language": "python",
   "name": "python3"
  },
  "language_info": {
   "codemirror_mode": {
    "name": "ipython",
    "version": 3
   },
   "file_extension": ".py",
   "mimetype": "text/x-python",
   "name": "python",
   "nbconvert_exporter": "python",
   "pygments_lexer": "ipython3",
   "version": "3.11.4"
  }
 },
 "nbformat": 4,
 "nbformat_minor": 5
}
