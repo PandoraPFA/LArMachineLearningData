{
 "cells": [
  {
   "cell_type": "markdown",
   "id": "e1235eff",
   "metadata": {},
   "source": [
    "## Write Primary Tier Training File\n",
    "\n",
    "written by Isobel Mawby (i.mawby1@lancaster.ac.uk)"
   ]
  },
  {
   "cell_type": "markdown",
   "id": "c964e270",
   "metadata": {},
   "source": [
    "<div class=\"alert alert-block alert-info\" style=\"font-size: 18px;\">\n",
    "    Imports\n",
    "</div>"
   ]
  },
  {
   "cell_type": "code",
   "execution_count": null,
   "id": "63f5fa34",
   "metadata": {},
   "outputs": [],
   "source": [
    "import sys\n",
    "import os\n",
    "sys.path.insert(0, os.getcwd()[0:len(os.getcwd()) - 11])\n",
    "\n",
    "import math\n",
    "import numpy as np\n",
    "import sklearn \n",
    "\n",
    "import Utilities\n",
    "import PrimaryTierFileHelper"
   ]
  },
  {
   "cell_type": "markdown",
   "id": "613fd0d5",
   "metadata": {},
   "source": [
    "<div class=\"alert alert-block alert-info\" style=\"font-size: 18px;\">\n",
    "    Create a file for primary track training (isTrackMode == True) or primary shower training (isTrackMode == False)?\n",
    "</div>"
   ]
  },
  {
   "cell_type": "code",
   "execution_count": null,
   "id": "108a4be0",
   "metadata": {},
   "outputs": [],
   "source": [
    "isTrackMode = False"
   ]
  },
  {
   "cell_type": "markdown",
   "id": "7e2ceb3b",
   "metadata": {},
   "source": [
    "<div class=\"alert alert-block alert-info\" style=\"font-size: 18px;\">\n",
    "    Please put the path to your training file (created from makeTrainingTrees.C) and set ouput file name\n",
    "</div>"
   ]
  },
  {
   "cell_type": "code",
   "execution_count": null,
   "id": "d50c9555",
   "metadata": {},
   "outputs": [],
   "source": [
    "fileName = sys.path[0] + '/files/hierarchy_TRAIN.root'\n",
    "\n",
    "if (isTrackMode) : \n",
    "    trainVarFile = sys.path[0] + '/files/hierarchy_TRAIN_track.npz'\n",
    "else :\n",
    "    trainVarFile = sys.path[0] + '/files/hierarchy_TRAIN_shower.npz'\n",
    "\n",
    "print('fileName:', fileName)\n",
    "print('trainVarFile:', trainVarFile)"
   ]
  },
  {
   "cell_type": "markdown",
   "id": "dd306079",
   "metadata": {},
   "source": [
    "<div class=\"alert alert-block alert-info\" style=\"font-size: 18px;\">\n",
    "    Convert file info to expected format\n",
    "</div>"
   ]
  },
  {
   "cell_type": "code",
   "execution_count": null,
   "id": "55f45f92",
   "metadata": {
    "scrolled": true
   },
   "outputs": [],
   "source": [
    "nLinks, variables, y, isTruePrimaryLink, trainingCutDCA = PrimaryTierFileHelper.ReadTreeForTraining(isTrackMode, fileName, normalise=True)"
   ]
  },
  {
   "cell_type": "markdown",
   "id": "412f289e",
   "metadata": {},
   "source": [
    "<div class=\"alert alert-block alert-info\" style=\"font-size: 18px;\">\n",
    "    Plot the primary variables: \n",
    "    \n",
    "    0     - primaryNSpacepoints\n",
    "    1, 9  - primaryNuVertexSeparation\n",
    "    2, 10 - primaryStartRegionNHits\n",
    "    3, 11 - primaryStartRegionNParticles\n",
    "    4, 12 - primaryDCA\n",
    "    5, 13 - primaryConnectionExtrapDistance \n",
    "    6, 14 - primaryIsPOIClosestToNu\n",
    "    7, 15 - primaryClosestParentL\n",
    "    8, 16 - primaryClosestParentT\n",
    "</div>"
   ]
  },
  {
   "cell_type": "code",
   "execution_count": null,
   "id": "717bac58",
   "metadata": {
    "scrolled": false
   },
   "outputs": [],
   "source": [
    "Utilities.drawSignalBackground(variables[:, 0], isTruePrimaryLink, \"nSpacepoints\")\n",
    "\n",
    "if (isTrackMode) :\n",
    "    Utilities.drawSignalBackgroundGroup(np.concatenate((variables[:, 1].reshape(-1,1), variables[:, 9].reshape(-1,1)), axis=1), y, 'primaryNuVertexSeparation')    \n",
    "    Utilities.drawSignalBackgroundGroup(np.concatenate((variables[:, 2].reshape(-1,1), variables[:, 10].reshape(-1,1)), axis=1), y, 'primaryStartRegionNHits')\n",
    "    Utilities.drawSignalBackgroundGroup(np.concatenate((variables[:, 3].reshape(-1,1), variables[:, 11].reshape(-1,1)), axis=1), y, 'primaryStartRegionNParticles')\n",
    "    Utilities.drawSignalBackgroundGroup(np.concatenate((variables[:, 4].reshape(-1,1), variables[:, 12].reshape(-1,1)), axis=1), y, 'primaryDCA')\n",
    "    Utilities.drawSignalBackgroundGroup(np.concatenate((variables[:, 5].reshape(-1,1), variables[:, 13].reshape(-1,1)), axis=1), y, 'primaryConnectionExtrapDistance')\n",
    "    Utilities.drawSignalBackgroundGroup(np.concatenate((variables[:, 6].reshape(-1,1), variables[:, 14].reshape(-1,1)), axis=1), y, 'primaryIsPOIClosestToNu')\n",
    "    Utilities.drawSignalBackgroundGroup(np.concatenate((variables[:, 7].reshape(-1,1), variables[:, 15].reshape(-1,1)), axis=1), y, 'primaryClosestParentL')\n",
    "    Utilities.drawSignalBackgroundGroup(np.concatenate((variables[:, 8].reshape(-1,1), variables[:, 16].reshape(-1,1)), axis=1), y, 'primaryClosestParentT')\n",
    "else :\n",
    "    Utilities.drawSignalBackground(variables[:, 1], isTruePrimaryLink, 'primaryNuVertexSeparation')\n",
    "    Utilities.drawSignalBackground(variables[:, 2], isTruePrimaryLink, 'primaryStartRegionNHits')\n",
    "    Utilities.drawSignalBackground(variables[:, 3], isTruePrimaryLink, 'primaryStartRegionNParticles')    \n",
    "    Utilities.drawSignalBackground(variables[:, 4], isTruePrimaryLink, 'primaryDCA')    \n",
    "    Utilities.drawSignalBackground(variables[:, 5], isTruePrimaryLink, 'primaryConnectionExtrapDistance')\n",
    "    Utilities.drawSignalBackground(variables[:, 6], isTruePrimaryLink, 'primaryIsPOIClosestToNu')\n",
    "    Utilities.drawSignalBackground(variables[:, 7], isTruePrimaryLink, 'primaryClosestParentL') \n",
    "    Utilities.drawSignalBackground(variables[:, 8], isTruePrimaryLink, 'primaryClosestParentT') "
   ]
  },
  {
   "cell_type": "markdown",
   "id": "5fcd4d8d",
   "metadata": {},
   "source": [
    "<div class=\"alert alert-block alert-info\" style=\"font-size: 18px;\">\n",
    "    Plot the training cut distribution - this infers the training cut to be applied in training\n",
    "</div>"
   ]
  },
  {
   "cell_type": "code",
   "execution_count": null,
   "id": "b9f8b0ab",
   "metadata": {},
   "outputs": [],
   "source": [
    "Utilities.drawSignalBackground(np.array(trainingCutDCA), isTruePrimaryLink, \"trainingCutDCA\")"
   ]
  },
  {
   "cell_type": "markdown",
   "id": "9a3538c0",
   "metadata": {},
   "source": [
    "<div class=\"alert alert-block alert-info\" style=\"font-size: 18px;\">\n",
    "    Shuffle the training dataset\n",
    "</div>"
   ]
  },
  {
   "cell_type": "code",
   "execution_count": null,
   "id": "42a09895",
   "metadata": {},
   "outputs": [],
   "source": [
    "variables, y, isTruePrimaryLink, trainingCutDCA = sklearn.utils.shuffle(variables, y, isTruePrimaryLink, trainingCutDCA)"
   ]
  },
  {
   "cell_type": "markdown",
   "id": "fce75bb5",
   "metadata": {},
   "source": [
    "<div class=\"alert alert-block alert-info\" style=\"font-size: 18px;\">\n",
    "    Write the file\n",
    "</div>"
   ]
  },
  {
   "cell_type": "code",
   "execution_count": null,
   "id": "b8c45602",
   "metadata": {},
   "outputs": [],
   "source": [
    "ntest = math.floor(nLinks * 0.1)\n",
    "ntrain = math.floor(nLinks * 0.9)\n",
    "    \n",
    "variables_train = variables[:ntrain]\n",
    "variables_test = variables[ntrain:]\n",
    "\n",
    "y_train = y[:ntrain]\n",
    "y_test = y[ntrain:]\n",
    "\n",
    "isTruePrimaryLink_train = isTruePrimaryLink[:ntrain]\n",
    "isTruePrimaryLink_test = isTruePrimaryLink[ntrain:]\n",
    "\n",
    "trainingCutDCA_train = trainingCutDCA[:ntrain]\n",
    "trainingCutDCA_test = trainingCutDCA[ntrain:]\n",
    "    \n",
    "np.savez(trainVarFile,\n",
    "         variables_train=variables_train, y_train=y_train, isTruePrimaryLink_train=isTruePrimaryLink_train, trainingCutDCA_train=trainingCutDCA_train,\n",
    "         variables_test=variables_test, y_test=y_test, isTruePrimaryLink_test=isTruePrimaryLink_test, trainingCutDCA_test=trainingCutDCA_test)\n",
    "\n",
    "print('variables_train: ', variables_train.shape)    \n",
    "print('isTruePrimaryLink_train:', isTruePrimaryLink_train.shape)\n",
    "print('y_train: ', y_train.shape)\n",
    "print('variables_test: ', variables_test.shape)  \n",
    "print('y_test: ', y_test.shape)  \n",
    "print('isTruePrimaryLink_test:', isTruePrimaryLink_test.shape)"
   ]
  }
 ],
 "metadata": {
  "kernelspec": {
   "display_name": "Python 3 (ipykernel)",
   "language": "python",
   "name": "python3"
  },
  "language_info": {
   "codemirror_mode": {
    "name": "ipython",
    "version": 3
   },
   "file_extension": ".py",
   "mimetype": "text/x-python",
   "name": "python",
   "nbconvert_exporter": "python",
   "pygments_lexer": "ipython3",
   "version": "3.11.4"
  }
 },
 "nbformat": 4,
 "nbformat_minor": 5
}
