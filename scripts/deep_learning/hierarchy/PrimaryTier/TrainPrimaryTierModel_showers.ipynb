{
 "cells": [
  {
   "cell_type": "markdown",
   "id": "c45decbd",
   "metadata": {},
   "source": [
    "## Train Primary Shower Networks\n",
    "\n",
    "written by Isobel Mawby (i.mawby1@lancaster.ac.uk)"
   ]
  },
  {
   "cell_type": "markdown",
   "id": "bf318260",
   "metadata": {},
   "source": [
    "<div class=\"alert alert-block alert-info\" style=\"font-size: 18px;\">\n",
    "    Imports\n",
    "</div>"
   ]
  },
  {
   "cell_type": "code",
   "execution_count": null,
   "id": "0b71c65a",
   "metadata": {},
   "outputs": [],
   "source": [
    "import sys\n",
    "import os\n",
    "sys.path.insert(0, os.getcwd()[0:len(os.getcwd()) - 11])\n",
    "sys.path.insert(1, os.getcwd()[0:len(os.getcwd()) - 11] + '/Metrics')\n",
    "\n",
    "import numpy as np\n",
    "import torch\n",
    "from torch.utils.data import Dataset, DataLoader\n",
    "import sys\n",
    "import itertools\n",
    "\n",
    "import Models\n",
    "import TrainingMetrics"
   ]
  },
  {
   "cell_type": "markdown",
   "id": "b776dae1",
   "metadata": {},
   "source": [
    "<div class=\"alert alert-block alert-info\" style=\"font-size: 18px;\">\n",
    "    Put the path to the primary shower training file (created by WritePrimaryTierFile.ipynb with isTrackMode == False) and set ouput file name\n",
    "</div>"
   ]
  },
  {
   "cell_type": "code",
   "execution_count": null,
   "id": "f4b068f4",
   "metadata": {},
   "outputs": [],
   "source": [
    "trainFileName = sys.path[0] + '/files/hierarchy_TRAIN_shower.npz'\n",
    "classifierModelPath = sys.path[0] + '/models/PandoraNet_Hierarchy_DUNEFD_HD_S_Class_v014_15_00'"
   ]
  },
  {
   "cell_type": "markdown",
   "id": "c100da2d",
   "metadata": {},
   "source": [
    "<div class=\"alert alert-block alert-info\" style=\"font-size: 18px;\">\n",
    "    Set hyperparameters\n",
    "</div>"
   ]
  },
  {
   "cell_type": "code",
   "execution_count": null,
   "id": "d856d466",
   "metadata": {},
   "outputs": [],
   "source": [
    "N_EPOCHS = 5\n",
    "BATCH_SIZE = 64\n",
    "LEARNING_RATE = 1e-3\n",
    "DROPOUT_RATE = 0.5"
   ]
  },
  {
   "cell_type": "markdown",
   "id": "982dc918",
   "metadata": {},
   "source": [
    "<div class=\"alert alert-block alert-info\" style=\"font-size: 18px;\">\n",
    "    Get data from file\n",
    "</div>"
   ]
  },
  {
   "cell_type": "code",
   "execution_count": null,
   "id": "78c3e230",
   "metadata": {},
   "outputs": [],
   "source": [
    "data = np.load(trainFileName)\n",
    "\n",
    "# Variables\n",
    "variables_train = data['variables_train']\n",
    "variables_test = data['variables_test']\n",
    "variables_train = variables_train.astype(np.float32)\n",
    "variables_test = variables_test.astype(np.float32)\n",
    "# Truth\n",
    "isTruePrimaryLink_train = data['isTruePrimaryLink_train']\n",
    "isTruePrimaryLink_test = data['isTruePrimaryLink_test']\n",
    "# Training cut\n",
    "trainingCutDCA_train = data['trainingCutDCA_train']\n",
    "trainingCutDCA_test = data['trainingCutDCA_test']"
   ]
  },
  {
   "cell_type": "markdown",
   "id": "7148594b",
   "metadata": {},
   "source": [
    "<div class=\"alert alert-block alert-info\" style=\"font-size: 18px;\">\n",
    "    Set multiplicity variables\n",
    "</div>"
   ]
  },
  {
   "cell_type": "code",
   "execution_count": null,
   "id": "9a45767a",
   "metadata": {},
   "outputs": [],
   "source": [
    "nVariables = variables_train.shape[1]"
   ]
  },
  {
   "cell_type": "markdown",
   "id": "4fb44de2",
   "metadata": {},
   "source": [
    "<div class=\"alert alert-block alert-info\" style=\"font-size: 18px;\">\n",
    "    Check shapes\n",
    "</div>"
   ]
  },
  {
   "cell_type": "code",
   "execution_count": null,
   "id": "9b511a04",
   "metadata": {},
   "outputs": [],
   "source": [
    "print('variables_train.shape:', variables_train.shape)\n",
    "print('variables_test.shape:', variables_test.shape)\n",
    "print('trainingCutDCA_train.shape:', trainingCutDCA_train.shape)\n",
    "print('trainingCutDCA_test.shape:', trainingCutDCA_test.shape)\n",
    "print('isTruePrimaryLink_train.shape:', isTruePrimaryLink_train.shape)\n",
    "print('isTruePrimaryLink_test.shape:', isTruePrimaryLink_test.shape)\n",
    "print('')\n",
    "print('ntrain:', variables_train.shape[0])\n",
    "print('ntest:', variables_test.shape[0])"
   ]
  },
  {
   "cell_type": "markdown",
   "id": "ef43e290",
   "metadata": {},
   "source": [
    "<div class=\"alert alert-block alert-info\" style=\"font-size: 18px;\">\n",
    "    Apply training cut mask\n",
    "</div>"
   ]
  },
  {
   "cell_type": "code",
   "execution_count": null,
   "id": "fc794393",
   "metadata": {},
   "outputs": [],
   "source": [
    "# training cut threshold\n",
    "MAX_TRAINING_CUT_DCA = 50.0\n",
    "\n",
    "######################\n",
    "# training set first\n",
    "######################\n",
    "# Make mask\n",
    "passTrainingCutDCA_train = trainingCutDCA_train < MAX_TRAINING_CUT_DCA\n",
    "passTrainingCuts_train = passTrainingCutDCA_train\n",
    "\n",
    "# Mask the 1D variables... shape=(nEntries, )\n",
    "isTruePrimaryLink_train = isTruePrimaryLink_train[passTrainingCuts_train]\n",
    "\n",
    "# Mask the variable... shape=(nEntries, nVariables)\n",
    "variables_train = variables_train[[[entry] * nVariables for entry in passTrainingCuts_train]].reshape(-1, nVariables)\n",
    "\n",
    "######################\n",
    "# now test set\n",
    "######################\n",
    "# Make mask\n",
    "passTrainingCutDCA_test = trainingCutDCA_test < MAX_TRAINING_CUT_DCA\n",
    "passTrainingCuts_test = passTrainingCutDCA_test\n",
    "\n",
    "# Mask the 1D variables... shape=(nEntries, )\n",
    "isTruePrimaryLink_test = isTruePrimaryLink_test[passTrainingCuts_test]\n",
    "\n",
    "# Mask the variable... shape=(nEntries, nVariables)\n",
    "variables_test = variables_test[[[entry] * nVariables for entry in passTrainingCuts_test]].reshape(-1, nVariables)"
   ]
  },
  {
   "cell_type": "markdown",
   "id": "04a021d6",
   "metadata": {},
   "source": [
    "<div class=\"alert alert-block alert-info\" style=\"font-size: 18px;\">\n",
    "    Check shapes after training cut application\n",
    "</div>"
   ]
  },
  {
   "cell_type": "code",
   "execution_count": null,
   "id": "8acdf3b7",
   "metadata": {},
   "outputs": [],
   "source": [
    "print('variables_train.shape:', variables_train.shape)\n",
    "print('variables_test.shape:', variables_test.shape)\n",
    "print('isTruePrimaryLink_train.shape:', isTruePrimaryLink_train.shape)\n",
    "print('isTruePrimaryLink_test.shape:', isTruePrimaryLink_test.shape)\n",
    "print('')\n",
    "print('ntrain:', variables_train.shape[0])\n",
    "print('ntest:', variables_test.shape[0])"
   ]
  },
  {
   "cell_type": "markdown",
   "id": "5d0710f2",
   "metadata": {},
   "source": [
    "<div class=\"alert alert-block alert-info\" style=\"font-size: 18px;\">\n",
    "   Define class weights\n",
    "</div>"
   ]
  },
  {
   "cell_type": "code",
   "execution_count": null,
   "id": "ed91d41b",
   "metadata": {},
   "outputs": [],
   "source": [
    "nTrue_final = np.count_nonzero(isTruePrimaryLink_train == 1)\n",
    "nBackground_final = np.count_nonzero(isTruePrimaryLink_train == 0)\n",
    "maxLinks = max(nTrue_final, nBackground_final)\n",
    "\n",
    "classWeights_final = {0: maxLinks/nBackground_final, 1: maxLinks/nTrue_final}"
   ]
  },
  {
   "cell_type": "markdown",
   "id": "3ce04ce3",
   "metadata": {},
   "source": [
    "<div class=\"alert alert-block alert-info\" style=\"font-size: 18px;\">\n",
    "    Prepare Dataset objects\n",
    "</div>"
   ]
  },
  {
   "cell_type": "code",
   "execution_count": null,
   "id": "1c151638",
   "metadata": {},
   "outputs": [],
   "source": [
    "loader_train = DataLoader(list(zip(variables_train, isTruePrimaryLink_train)), shuffle=True, batch_size=BATCH_SIZE)\n",
    "loader_test = DataLoader(list(zip(variables_test, isTruePrimaryLink_test)), shuffle=True, batch_size=BATCH_SIZE)"
   ]
  },
  {
   "cell_type": "markdown",
   "id": "e67b5e65",
   "metadata": {},
   "source": [
    "<div class=\"alert alert-block alert-info\" style=\"font-size: 18px;\">\n",
    "    Define model\n",
    "</div>"
   ]
  },
  {
   "cell_type": "code",
   "execution_count": null,
   "id": "a07fabaf",
   "metadata": {},
   "outputs": [],
   "source": [
    "model = Models.PrimaryTrackShowerModel(nVariables, dropoutRate=DROPOUT_RATE)"
   ]
  },
  {
   "cell_type": "markdown",
   "id": "911561fc",
   "metadata": {},
   "source": [
    "<div class=\"alert alert-block alert-info\" style=\"font-size: 18px;\">\n",
    "    Define loss functions for training to implement custom weighting\n",
    "</div>"
   ]
  },
  {
   "cell_type": "code",
   "execution_count": null,
   "id": "85389775",
   "metadata": {},
   "outputs": [],
   "source": [
    "def loss_function_classifier(pred, targets, classWeights) :\n",
    "    # Loss function\n",
    "    loss_func = torch.nn.BCELoss()    \n",
    "    # Do weighting\n",
    "    weight = torch.ones(targets.shape)\n",
    "    weight[targets > 0.5] = classWeights_final[1]\n",
    "    weight[targets < 0.5] = classWeights_final[0]\n",
    "    loss_func.weight = weight\n",
    "    # Calc loss\n",
    "    targets = targets.to(torch.float64)\n",
    "    pred = pred.type(torch.float64)\n",
    "    loss = loss_func(pred, targets)\n",
    "       \n",
    "    return loss"
   ]
  },
  {
   "cell_type": "markdown",
   "id": "0fb85874",
   "metadata": {},
   "source": [
    "<div class=\"alert alert-block alert-info\" style=\"font-size: 18px;\">\n",
    "    Training/validation loop functions.\n",
    "</div>"
   ]
  },
  {
   "cell_type": "code",
   "execution_count": null,
   "id": "8d8a44d9",
   "metadata": {},
   "outputs": [],
   "source": [
    "def RunTrainingLoop(inputs, targets, classifier_model, classWeights_classifier) : \n",
    "    # Get predictions\n",
    "    preds = classifier_model(inputs).reshape(-1)\n",
    "    # Get loss\n",
    "    loss = loss_function_classifier(preds, targets, classWeights_classifier)\n",
    "    return loss\n",
    "\n",
    "def RunValidationLoop(inputs, targets, classifier_model, classWeights_classifier, linkMetrics) : \n",
    "    # Get predictions\n",
    "    preds = classifier_model(inputs).reshape(-1)\n",
    "    # Get loss\n",
    "    loss = loss_function_classifier(preds, targets, classWeights_classifier)\n",
    "    \n",
    "    linkMetrics.classifier_metrics.Fill(loss, preds, targets)   "
   ]
  },
  {
   "cell_type": "markdown",
   "id": "f60d967d",
   "metadata": {},
   "source": [
    "<div class=\"alert alert-block alert-info\" style=\"font-size: 18px;\">\n",
    "   Training/testing loops\n",
    "</div>"
   ]
  },
  {
   "cell_type": "code",
   "execution_count": null,
   "id": "fc7cd5a2",
   "metadata": {
    "scrolled": false
   },
   "outputs": [],
   "source": [
    "# Optimiser\n",
    "optimiser = torch.optim.Adam(model.parameters(), lr=LEARNING_RATE)\n",
    "\n",
    "# Put here some metrics\n",
    "epochs_metrics = []\n",
    "training_link_metrics = []\n",
    "testing_link_metrics = []\n",
    "\n",
    "for epoch in range(N_EPOCHS):\n",
    "    \n",
    "    # Begin training mode\n",
    "    model.train()\n",
    "                         \n",
    "    for inputs, targets in loader_train:  \n",
    "    \n",
    "        # Skip incomplete batches\n",
    "        if (inputs.shape[0] != BATCH_SIZE) :\n",
    "            continue       \n",
    "            \n",
    "        loss = RunTrainingLoop(inputs, targets, model, classWeights_final)\n",
    "        \n",
    "        # Update model parameters\n",
    "        optimiser.zero_grad()\n",
    "        loss.backward()\n",
    "        optimiser.step()   \n",
    "        \n",
    "    with torch.no_grad():\n",
    "        \n",
    "        # Begin testing mode\n",
    "        model.eval()\n",
    "        \n",
    "        # Initialise metrics        \n",
    "        linkMetrics_train = TrainingMetrics.LinkMetrics(0)\n",
    "        linkMetrics_test = TrainingMetrics.LinkMetrics(0)\n",
    "                        \n",
    "        # Iterate in batches over the training dataset.                        \n",
    "        for inputs_train, targets_train in loader_train:  \n",
    "\n",
    "            # Skip incomplete batches\n",
    "            if (inputs_train.shape[0] != BATCH_SIZE) :\n",
    "                continue        \n",
    "\n",
    "            # Get predictions\n",
    "            RunValidationLoop(inputs_train, targets_train, model, classWeights_final, linkMetrics_train)            \n",
    "                        \n",
    "        # Iterate in batches over the testing dataset.                        \n",
    "        for inputs_test, targets_test in loader_test:  \n",
    "\n",
    "            # Skip incomplete batches\n",
    "            if (inputs_test.shape[0] != BATCH_SIZE) :\n",
    "                continue        \n",
    "\n",
    "            # Get predictions\n",
    "            RunValidationLoop(inputs_test, targets_test, model, classWeights_final, linkMetrics_test)    \n",
    "            \n",
    "        epochs_metrics.append(epoch)            \n",
    "    \n",
    "    ##########################\n",
    "    # Calc metrics for epoch \n",
    "    ##########################   \n",
    "    # Find threshold\n",
    "    optimal_threshold_train, maximum_accuracy_train = TrainingMetrics.calculate_accuracy(linkMetrics_train)\n",
    "    optimal_threshold_test, maximum_accuracy_test = TrainingMetrics.calculate_accuracy(linkMetrics_test)\n",
    "\n",
    "    # Calculate metrics\n",
    "    linkMetrics_train.Evaluate(optimal_threshold_train)\n",
    "    linkMetrics_test.Evaluate(optimal_threshold_test)\n",
    "    \n",
    "    # Add to our lists\n",
    "    training_link_metrics.append(linkMetrics_train)\n",
    "    testing_link_metrics.append(linkMetrics_test) \n",
    "    \n",
    "   # Do some prints\n",
    "    print('----------------------------------------')\n",
    "    print('Epoch:', epoch)\n",
    "    print('----------------------------------------')\n",
    "    print('training_classification_loss:', round(linkMetrics_train.classifier_metrics.av_loss, 2))\n",
    "    print('----')\n",
    "    print('optimal_threshold_train:', optimal_threshold_train)\n",
    "    print('accuracy_train:', str(round(maximum_accuracy_train.item(), 2)) +'%')\n",
    "    print('positive_as_positive_fraction_train:', str(round(linkMetrics_train.classifier_metrics.pos_as_pos_frac * 100.0, 2)) + '%')\n",
    "    print('positive_as_negative_fraction_train:', str(round(linkMetrics_train.classifier_metrics.pos_as_neg_frac * 100.0, 2)) + '%')\n",
    "    print('negative_as_negative_fraction_train:', str(round(linkMetrics_train.classifier_metrics.neg_as_pos_frac * 100.0, 2)) + '%')\n",
    "    print('negative_as_positive_fraction_train:', str(round(linkMetrics_train.classifier_metrics.neg_as_neg_frac * 100.0, 2)) + '%')\n",
    "    print('----')\n",
    "    print('testing_classification_loss:', round(linkMetrics_test.classifier_metrics.av_loss, 2))\n",
    "    print('----')\n",
    "    print('optimal_threshold_test:', optimal_threshold_test)\n",
    "    print('accuracy_test:', str(round(maximum_accuracy_test.item(), 2)) +'%')\n",
    "    print('positive_as_positive_fraction_test:', str(round(linkMetrics_test.classifier_metrics.pos_as_pos_frac * 100.0, 2)) + '%')\n",
    "    print('positive_as_negative_fraction_test:', str(round(linkMetrics_test.classifier_metrics.pos_as_neg_frac * 100.0, 2)) + '%')\n",
    "    print('negative_as_negative_fraction_test:', str(round(linkMetrics_test.classifier_metrics.neg_as_pos_frac * 100.0, 2)) + '%')\n",
    "    print('negative_as_positive_fraction_test:', str(round(linkMetrics_test.classifier_metrics.neg_as_neg_frac * 100.0, 2)) + '%')\n",
    "    print('----')    \n",
    "    \n",
    "    TrainingMetrics.plot_scores_classifier(linkMetrics_train, linkMetrics_test)"
   ]
  },
  {
   "cell_type": "markdown",
   "id": "2589300a",
   "metadata": {},
   "source": [
    "<div class=\"alert alert-block alert-info\" style=\"font-size: 18px;\">\n",
    "   Plot metrics associated with training \n",
    "</div>"
   ]
  },
  {
   "cell_type": "code",
   "execution_count": null,
   "id": "18015950",
   "metadata": {
    "scrolled": false
   },
   "outputs": [],
   "source": [
    "TrainingMetrics.plot_classifier_loss_evolution(epochs_metrics, training_link_metrics, testing_link_metrics, 'Loss - classifier')\n",
    "TrainingMetrics.plot_edge_rate(epochs_metrics, training_link_metrics, testing_link_metrics, True)\n",
    "TrainingMetrics.plot_edge_rate(epochs_metrics,  training_link_metrics, testing_link_metrics, False)"
   ]
  },
  {
   "cell_type": "markdown",
   "id": "9b49b5c8",
   "metadata": {},
   "source": [
    "<div class=\"alert alert-block alert-info\" style=\"font-size: 18px;\">\n",
    "   Show ROC curve and confusion matrices, for the latter you can decide the threshold cut used\n",
    "</div>"
   ]
  },
  {
   "cell_type": "code",
   "execution_count": null,
   "id": "e7269cc0",
   "metadata": {
    "scrolled": false
   },
   "outputs": [],
   "source": [
    "with torch.no_grad():\n",
    "    # Begin testing mode\n",
    "    model.eval()\n",
    "    \n",
    "    pred_final_test = model(torch.tensor(variables_test))\n",
    "    \n",
    "    pos_scores_final_test = np.array(pred_final_test.tolist())[isTruePrimaryLink_test == 1]\n",
    "    neg_scores_final_test = np.array(pred_final_test.tolist())[isTruePrimaryLink_test == 0]\n",
    "    \n",
    "    TrainingMetrics.plot_roc_curve(torch.tensor(pos_scores_final_test), torch.tensor(neg_scores_final_test))\n",
    "    TrainingMetrics.draw_confusion_with_threshold(pred_final_test, isTruePrimaryLink_test, 0.5)"
   ]
  },
  {
   "cell_type": "markdown",
   "id": "a988aa10",
   "metadata": {},
   "source": [
    "<div class=\"alert alert-block alert-info\" style=\"font-size: 18px;\">\n",
    "   Save the model\n",
    "</div>"
   ]
  },
  {
   "cell_type": "code",
   "execution_count": null,
   "id": "6794559e",
   "metadata": {},
   "outputs": [],
   "source": [
    "sm = torch.jit.script(model)\n",
    "sm.save(f\"{classifierModelPath}.pt\")\n",
    "torch.save(model.state_dict(), f\"{classifierModelPath}.pkl\")"
   ]
  }
 ],
 "metadata": {
  "kernelspec": {
   "display_name": "Python 3 (ipykernel)",
   "language": "python",
   "name": "python3"
  },
  "language_info": {
   "codemirror_mode": {
    "name": "ipython",
    "version": 3
   },
   "file_extension": ".py",
   "mimetype": "text/x-python",
   "name": "python",
   "nbconvert_exporter": "python",
   "pygments_lexer": "ipython3",
   "version": "3.11.4"
  }
 },
 "nbformat": 4,
 "nbformat_minor": 5
}
