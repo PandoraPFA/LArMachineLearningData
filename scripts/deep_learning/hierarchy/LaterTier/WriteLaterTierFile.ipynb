{
 "cells": [
  {
   "cell_type": "markdown",
   "id": "4eb52439",
   "metadata": {},
   "source": [
    "## Write Later Tier Training File\n",
    "\n",
    "written by Isobel Mawby (i.mawby1@lancaster.ac.uk)"
   ]
  },
  {
   "cell_type": "markdown",
   "id": "6758d417",
   "metadata": {},
   "source": [
    "<div class=\"alert alert-block alert-info\" style=\"font-size: 18px;\">\n",
    "    Imports\n",
    "</div>"
   ]
  },
  {
   "cell_type": "code",
   "execution_count": null,
   "id": "d3410253",
   "metadata": {},
   "outputs": [],
   "source": [
    "import sys\n",
    "import os\n",
    "sys.path.insert(0, os.getcwd()[0:len(os.getcwd()) - 10])\n",
    "\n",
    "import math\n",
    "import numpy as np\n",
    "import sklearn \n",
    "import matplotlib.pyplot as plt\n",
    "\n",
    "import Utilities\n",
    "import LaterTierFileHelper"
   ]
  },
  {
   "cell_type": "markdown",
   "id": "91955a04",
   "metadata": {},
   "source": [
    "<div class=\"alert alert-block alert-info\" style=\"font-size: 18px;\">\n",
    "    Create a file for later tier track-track link training (isTrackMode == True) or tier track-shower link training (isTrackMode == False)?\n",
    "</div>"
   ]
  },
  {
   "cell_type": "code",
   "execution_count": null,
   "id": "ebb6d35e",
   "metadata": {},
   "outputs": [],
   "source": [
    "isTrackMode = True"
   ]
  },
  {
   "cell_type": "markdown",
   "id": "e9286fcb",
   "metadata": {},
   "source": [
    "<div class=\"alert alert-block alert-info\" style=\"font-size: 18px;\">\n",
    "    Please put the path to your training file (created from makeTrainingTrees.C) and set ouput file name\n",
    "</div>"
   ]
  },
  {
   "cell_type": "code",
   "execution_count": null,
   "id": "a5413a21",
   "metadata": {},
   "outputs": [],
   "source": [
    "fileName = sys.path[0] + '/files/hierarchy_TRAIN.root'\n",
    "\n",
    "if (isTrackMode) : \n",
    "    trainVarFile = sys.path[0] + '/files/hierarchy_TRAIN_later_tier_track.npz'\n",
    "else :\n",
    "    trainVarFile = sys.path[0] + '/files/hierarchy_TRAIN_later_tier_shower.npz'\n",
    "\n",
    "print('fileName:', fileName)\n",
    "print('trainVarFile:', trainVarFile)"
   ]
  },
  {
   "cell_type": "markdown",
   "id": "350cd308",
   "metadata": {},
   "source": [
    "<div class=\"alert alert-block alert-info\" style=\"font-size: 18px;\">\n",
    "    Convert file info to expected format\n",
    "</div>"
   ]
  },
  {
   "cell_type": "code",
   "execution_count": null,
   "id": "9e8e88fb",
   "metadata": {
    "scrolled": true
   },
   "outputs": [],
   "source": [
    "nLinks, variables, y, trueParentChildLink, trueChildVisibleGeneration, trainingCutSep, trainingCutDoesConnect, \\\n",
    "    trainingCutL, trainingCutT = LaterTierFileHelper.ReadTreeForTraining(isTrackMode, fileName, normalise=True)"
   ]
  },
  {
   "cell_type": "markdown",
   "id": "eee2630d",
   "metadata": {},
   "source": [
    "<div class=\"alert alert-block alert-info\" style=\"font-size: 18px;\">\n",
    "    Plot the later-tier variables: \n",
    "    \n",
    "    0 - parentTrackScore\n",
    "    1 - childTrackScore\n",
    "    2 - parentNSpacepoints\n",
    "    3 - childNSpacepoints\n",
    "    4 - separation3D\n",
    "\n",
    "    5, 26, 47, 68  - parentNuVertexSep\n",
    "    6, 27, 48, 69  - childNuVertexSep\n",
    "    7, 28, 49, 70  - parentEndRegionNHits\n",
    "    8, 29, 50, 71  - parentEndRegionNParticles,\n",
    "    9, 30, 51, 72  - parentEndRegionRToWall\n",
    "    10, 31, 52, 73 - vertexSeparation\n",
    "    11, 32, 53, 74 - doesChildConnect\n",
    "    12, 33, 54, 75 - overshootStartDCA\n",
    "    13, 34, 55, 76 - overshootStartL\n",
    "    14, 35, 56, 77 - overshootEndDCA\n",
    "    15, 36, 57, 78 - overshootEndL\n",
    "    16, 37, 58, 79 - childConnectionDCA\n",
    "    17, 38, 59, 80 - childConnectionExtrapDistance\n",
    "    18, 39, 60, 81 - childConnectionLRatio\n",
    "    19, 40, 61, 82 - parentConnectionPointNUpstreamHits\n",
    "    20, 41, 62, 83 - parentConnectionPointNDownstreamHits\n",
    "    21, 42, 63, 84 - parentConnectionPointNHitRatio\n",
    "    22, 43, 64, 85 - parentConnectionPointEigenValueRatio\n",
    "    23, 44, 65, 86 - parentConnectionPointOpeningAngle\n",
    "    24, 45, 66, 87 - parentIsPOIClosestToNu\n",
    "    25, 46, 67, 88 - childIsPOIClosestToNu\n",
    "</div>"
   ]
  },
  {
   "cell_type": "code",
   "execution_count": null,
   "id": "a4fd0d14",
   "metadata": {
    "scrolled": false
   },
   "outputs": [],
   "source": [
    "Utilities.drawSignalBackground(variables[:, 0], trueParentChildLink, \"parentTrackScore\")\n",
    "Utilities.drawSignalBackground(variables[:, 1], trueParentChildLink, \"childTrackScore\")\n",
    "Utilities.drawSignalBackground(variables[:, 2], trueParentChildLink, \"parentNSpacepoints\")\n",
    "Utilities.drawSignalBackground(variables[:, 3], trueParentChildLink, \"childNSpacepoints\")\n",
    "Utilities.drawSignalBackground(variables[:, 4], trueParentChildLink, \"separation3D\")\n",
    "\n",
    "if (isTrackMode) :  \n",
    "    Utilities.drawSignalBackgroundGroup(np.concatenate((variables[:, 5].reshape(-1,1), variables[:, 26].reshape(-1,1), \\\n",
    "                                                                      variables[:, 47].reshape(-1,1), variables[:, 68].reshape(-1,1)), axis=1), y, 'parentNuVertexSep')\n",
    "    Utilities.drawSignalBackgroundGroup(np.concatenate((variables[:, 6].reshape(-1,1), variables[:, 27].reshape(-1,1), \\\n",
    "                                                                      variables[:, 48].reshape(-1,1), variables[:, 69].reshape(-1,1)), axis=1), y, 'childNuVertexSep')\n",
    "    Utilities.drawSignalBackgroundGroup(np.concatenate((variables[:, 7].reshape(-1,1), variables[:, 28].reshape(-1,1), \\\n",
    "                                                                      variables[:, 49].reshape(-1,1), variables[:, 70].reshape(-1,1)), axis=1), y, 'parentEndRegionNHits')\n",
    "    Utilities.drawSignalBackgroundGroup(np.concatenate((variables[:, 8].reshape(-1,1), variables[:, 29].reshape(-1,1), \\\n",
    "                                                                      variables[:, 50].reshape(-1,1), variables[:, 71].reshape(-1,1)), axis=1), y, 'parentEndRegionNParticles')\n",
    "    Utilities.drawSignalBackgroundGroup(np.concatenate((variables[:, 9].reshape(-1,1), variables[:, 30].reshape(-1,1), \\\n",
    "                                                                      variables[:, 51].reshape(-1,1), variables[:, 72].reshape(-1,1)), axis=1), y, 'parentEndRegionRToWall')\n",
    "    Utilities.drawSignalBackgroundGroup(np.concatenate((variables[:, 10].reshape(-1,1), variables[:, 31].reshape(-1,1), \\\n",
    "                                                                      variables[:, 52].reshape(-1,1), variables[:, 73].reshape(-1,1)), axis=1), y, 'vertexSeparation')\n",
    "    Utilities.drawSignalBackgroundGroup(np.concatenate((variables[:, 11].reshape(-1,1), variables[:, 32].reshape(-1,1), \\\n",
    "                                                                      variables[:, 53].reshape(-1,1), variables[:, 74].reshape(-1,1)), axis=1), y, 'doesChildConnect')\n",
    "    Utilities.drawSignalBackgroundGroup(np.concatenate((variables[:, 12].reshape(-1,1), variables[:, 33].reshape(-1,1), \\\n",
    "                                                                      variables[:, 54].reshape(-1,1), variables[:, 75].reshape(-1,1)), axis=1), y, 'overshootStartDCA')\n",
    "    Utilities.drawSignalBackgroundGroup(np.concatenate((variables[:, 13].reshape(-1,1), variables[:, 34].reshape(-1,1), \\\n",
    "                                                                      variables[:, 55].reshape(-1,1), variables[:, 76].reshape(-1,1)), axis=1), y, 'overshootStartL')\n",
    "    Utilities.drawSignalBackgroundGroup(np.concatenate((variables[:, 14].reshape(-1,1), variables[:, 35].reshape(-1,1), \\\n",
    "                                                                      variables[:, 56].reshape(-1,1), variables[:, 77].reshape(-1,1)), axis=1), y, 'overshootEndDCA')\n",
    "    Utilities.drawSignalBackgroundGroup(np.concatenate((variables[:, 15].reshape(-1,1), variables[:, 36].reshape(-1,1), \\\n",
    "                                                                      variables[:, 57].reshape(-1,1), variables[:, 78].reshape(-1,1)), axis=1), y, 'overshootEndL')\n",
    "    Utilities.drawSignalBackgroundGroup(np.concatenate((variables[:, 16].reshape(-1,1), variables[:, 37].reshape(-1,1), \\\n",
    "                                                                      variables[:, 58].reshape(-1,1), variables[:, 79].reshape(-1,1)), axis=1), y, 'childConnectionDCA')\n",
    "    Utilities.drawSignalBackgroundGroup(np.concatenate((variables[:, 17].reshape(-1,1), variables[:, 38].reshape(-1,1), \\\n",
    "                                                                      variables[:, 59].reshape(-1,1), variables[:, 80].reshape(-1,1)), axis=1), y, 'childConnectionExtrapDistance')\n",
    "    Utilities.drawSignalBackgroundGroup(np.concatenate((variables[:, 18].reshape(-1,1), variables[:, 39].reshape(-1,1), \\\n",
    "                                                                      variables[:, 60].reshape(-1,1), variables[:, 81].reshape(-1,1)), axis=1), y, 'childConnectionLRatio')\n",
    "    Utilities.drawSignalBackgroundGroup(np.concatenate((variables[:, 19].reshape(-1,1), variables[:, 40].reshape(-1,1), \\\n",
    "                                                                      variables[:, 61].reshape(-1,1), variables[:, 82].reshape(-1,1)), axis=1), y, 'parentConnectionPointNUpstreamHits')\n",
    "    Utilities.drawSignalBackgroundGroup(np.concatenate((variables[:, 20].reshape(-1,1), variables[:, 41].reshape(-1,1), \\\n",
    "                                                                      variables[:, 62].reshape(-1,1), variables[:, 83].reshape(-1,1)), axis=1), y, 'parentConnectionPointNDownstreamHits')\n",
    "    Utilities.drawSignalBackgroundGroup(np.concatenate((variables[:, 21].reshape(-1,1), variables[:, 42].reshape(-1,1), \\\n",
    "                                                                      variables[:, 63].reshape(-1,1), variables[:, 84].reshape(-1,1)), axis=1), y, 'primaryNuVertexSeparation')\n",
    "    Utilities.drawSignalBackgroundGroup(np.concatenate((variables[:, 22].reshape(-1,1), variables[:, 43].reshape(-1,1), \\\n",
    "                                                                      variables[:, 64].reshape(-1,1), variables[:, 85].reshape(-1,1)), axis=1), y, 'parentConnectionPointNHitRatio')\n",
    "    Utilities.drawSignalBackgroundGroup(np.concatenate((variables[:, 23].reshape(-1,1), variables[:, 44].reshape(-1,1), \\\n",
    "                                                                      variables[:, 65].reshape(-1,1), variables[:, 86].reshape(-1,1)), axis=1), y, 'parentConnectionPointOpeningAngle')\n",
    "    Utilities.drawSignalBackgroundGroup(np.concatenate((variables[:, 24].reshape(-1,1), variables[:, 45].reshape(-1,1), \\\n",
    "                                                                      variables[:, 66].reshape(-1,1), variables[:, 87].reshape(-1,1)), axis=1), y, 'parentIsPOIClosestToNu')\n",
    "    Utilities.drawSignalBackgroundGroup(np.concatenate((variables[:, 25].reshape(-1,1), variables[:, 46].reshape(-1,1), \\\n",
    "                                                                      variables[:, 67].reshape(-1,1), variables[:, 88].reshape(-1,1)), axis=1), y, 'childIsPOIClosestToNu')\n",
    "else :    \n",
    "    Utilities.drawSignalBackgroundGroup(np.concatenate((variables[:, 5].reshape(-1,1), variables[:, 26].reshape(-1,1)), axis=1), y, 'parentNuVertexSep')    \n",
    "    Utilities.drawSignalBackgroundGroup(np.concatenate((variables[:, 6].reshape(-1,1), variables[:, 27].reshape(-1,1)), axis=1), y, 'childNuVertexSep')\n",
    "    Utilities.drawSignalBackgroundGroup(np.concatenate((variables[:, 7].reshape(-1,1), variables[:, 28].reshape(-1,1)), axis=1), y, 'parentEndRegionNHits')\n",
    "    Utilities.drawSignalBackgroundGroup(np.concatenate((variables[:, 8].reshape(-1,1), variables[:, 29].reshape(-1,1)), axis=1), y, 'parentEndRegionNParticles')\n",
    "    Utilities.drawSignalBackgroundGroup(np.concatenate((variables[:, 9].reshape(-1,1), variables[:, 30].reshape(-1,1)), axis=1), y, 'parentEndRegionRToWall')\n",
    "    Utilities.drawSignalBackgroundGroup(np.concatenate((variables[:, 10].reshape(-1,1), variables[:, 31].reshape(-1,1)), axis=1), y, 'vertexSeparation')\n",
    "    Utilities.drawSignalBackgroundGroup(np.concatenate((variables[:, 11].reshape(-1,1), variables[:, 32].reshape(-1,1)), axis=1), y, 'doesChildConnect')\n",
    "    Utilities.drawSignalBackgroundGroup(np.concatenate((variables[:, 12].reshape(-1,1), variables[:, 33].reshape(-1,1)), axis=1), y, 'overshootStartDCA')        \n",
    "    Utilities.drawSignalBackgroundGroup(np.concatenate((variables[:, 13].reshape(-1,1), variables[:, 34].reshape(-1,1)), axis=1), y, 'overshootStartL')\n",
    "    Utilities.drawSignalBackgroundGroup(np.concatenate((variables[:, 14].reshape(-1,1), variables[:, 35].reshape(-1,1)), axis=1), y, 'overshootEndDCA')\n",
    "    Utilities.drawSignalBackgroundGroup(np.concatenate((variables[:, 15].reshape(-1,1), variables[:, 36].reshape(-1,1)), axis=1), y, 'overshootEndL')  \n",
    "    Utilities.drawSignalBackgroundGroup(np.concatenate((variables[:, 16].reshape(-1,1), variables[:, 37].reshape(-1,1)), axis=1), y, 'childConnectionDCA')\n",
    "    Utilities.drawSignalBackgroundGroup(np.concatenate((variables[:, 17].reshape(-1,1), variables[:, 38].reshape(-1,1)), axis=1), y, 'childConnectionExtrapDistance')\n",
    "    Utilities.drawSignalBackgroundGroup(np.concatenate((variables[:, 18].reshape(-1,1), variables[:, 39].reshape(-1,1)), axis=1), y, 'childConnectionLRatio')  \n",
    "    Utilities.drawSignalBackgroundGroup(np.concatenate((variables[:, 19].reshape(-1,1), variables[:, 40].reshape(-1,1)), axis=1), y, 'parentConnectionPointNUpstreamHits')\n",
    "    Utilities.drawSignalBackgroundGroup(np.concatenate((variables[:, 20].reshape(-1,1), variables[:, 41].reshape(-1,1)), axis=1), y, 'parentConnectionPointNDownstreamHits')\n",
    "    Utilities.drawSignalBackgroundGroup(np.concatenate((variables[:, 21].reshape(-1,1), variables[:, 42].reshape(-1,1)), axis=1), y, 'parentConnectionPointNHitRatio')  \n",
    "    Utilities.drawSignalBackgroundGroup(np.concatenate((variables[:, 22].reshape(-1,1), variables[:, 43].reshape(-1,1)), axis=1), y, 'parentConnectionPointEigenValueRatio')\n",
    "    Utilities.drawSignalBackgroundGroup(np.concatenate((variables[:, 23].reshape(-1,1), variables[:, 44].reshape(-1,1)), axis=1), y, 'parentConnectionPointOpeningAngle')\n",
    "    Utilities.drawSignalBackgroundGroup(np.concatenate((variables[:, 24].reshape(-1,1), variables[:, 45].reshape(-1,1)), axis=1), y, 'parentIsPOIClosestToNu')  \n",
    "    Utilities.drawSignalBackgroundGroup(np.concatenate((variables[:, 25].reshape(-1,1), variables[:, 46].reshape(-1,1)), axis=1), y, 'childIsPOIClosestToNu')"
   ]
  },
  {
   "cell_type": "markdown",
   "id": "1f430c6f",
   "metadata": {},
   "source": [
    "<div class=\"alert alert-block alert-info\" style=\"font-size: 18px;\">\n",
    "    Plot the training cut distributions - this infers the training cuts to be applied in training\n",
    "</div>"
   ]
  },
  {
   "cell_type": "code",
   "execution_count": null,
   "id": "a9d6487c",
   "metadata": {
    "scrolled": false
   },
   "outputs": [],
   "source": [
    "Utilities.drawSignalBackground(trainingCutSep, trueParentChildLink, \"trainingCutSep\")\n",
    "Utilities.drawSignalBackground(trainingCutDoesConnect, trueParentChildLink, \"trainingCutDoesConnect\")\n",
    "Utilities.drawSignalBackground(trainingCutL, trueParentChildLink, \"trainingCutL\")\n",
    "Utilities.drawSignalBackground(trainingCutT, trueParentChildLink, \"trainingCutT\")"
   ]
  },
  {
   "cell_type": "markdown",
   "id": "7ed0160f",
   "metadata": {},
   "source": [
    "<div class=\"alert alert-block alert-info\" style=\"font-size: 18px;\">\n",
    "    Shuffle the training dataset\n",
    "</div>"
   ]
  },
  {
   "cell_type": "code",
   "execution_count": null,
   "id": "a08503a8",
   "metadata": {},
   "outputs": [],
   "source": [
    "variables, y, trueParentChildLink, trueChildVisibleGeneration, trainingCutSep, trainingCutDoesConnect, trainingCutL, trainingCutT = \\\n",
    "    sklearn.utils.shuffle(variables, y, trueParentChildLink, trueChildVisibleGeneration, trainingCutSep, trainingCutDoesConnect, trainingCutL, trainingCutT)"
   ]
  },
  {
   "cell_type": "markdown",
   "id": "cd68adcb",
   "metadata": {},
   "source": [
    "<div class=\"alert alert-block alert-info\" style=\"font-size: 18px;\">\n",
    "    Write the file\n",
    "</div>"
   ]
  },
  {
   "cell_type": "code",
   "execution_count": null,
   "id": "72031f86",
   "metadata": {},
   "outputs": [],
   "source": [
    "ntest = math.floor(nLinks * 0.1)\n",
    "ntrain = math.floor(nLinks * 0.9)\n",
    "    \n",
    "variables_train = variables[:ntrain]\n",
    "variables_test = variables[ntrain:(ntrain + ntest)]\n",
    "\n",
    "y_train = y[:ntrain]\n",
    "y_test = y[ntrain:(ntrain + ntest)]\n",
    "\n",
    "trueParentChildLink_train = trueParentChildLink[:ntrain]\n",
    "trueParentChildLink_test = trueParentChildLink[ntrain:(ntrain + ntest)]\n",
    "    \n",
    "trueChildVisibleGeneration_train = trueChildVisibleGeneration[:ntrain]\n",
    "trueChildVisibleGeneration_test = trueChildVisibleGeneration[ntrain:(ntrain + ntest)]\n",
    "\n",
    "trainingCutSep_train = trainingCutSep[:ntrain]\n",
    "trainingCutSep_test = trainingCutSep[ntrain:(ntrain + ntest)]\n",
    "\n",
    "trainingCutDoesConnect_train = trainingCutDoesConnect[:ntrain]\n",
    "trainingCutDoesConnect_test = trainingCutDoesConnect[ntrain:(ntrain + ntest)]\n",
    "\n",
    "trainingCutL_train = trainingCutL[:ntrain]\n",
    "trainingCutL_test = trainingCutL[ntrain:(ntrain + ntest)]\n",
    "\n",
    "trainingCutT_train = trainingCutT[:ntrain]\n",
    "trainingCutT_test = trainingCutT[ntrain:(ntrain + ntest)]\n",
    "    \n",
    "np.savez(trainVarFile, \\\n",
    "         variables_train=variables_train, y_train=y_train, trueParentChildLink_train=trueParentChildLink_train, \\\n",
    "         trueChildVisibleGeneration_train=trueChildVisibleGeneration_train, \\\n",
    "         trainingCutSep_train=trainingCutSep_train, trainingCutDoesConnect_train=trainingCutDoesConnect_train, trainingCutL_train=trainingCutL_train, trainingCutT_train=trainingCutT_train, \\\n",
    "         variables_test=variables_test, y_test=y_test, trueParentChildLink_test=trueParentChildLink_test, \\\n",
    "         trueChildVisibleGeneration_test=trueChildVisibleGeneration_test, \\\n",
    "         trainingCutSep_test=trainingCutSep_test, trainingCutDoesConnect_test=trainingCutDoesConnect_test, trainingCutL_test=trainingCutL_test, trainingCutT_test=trainingCutT_test)\n",
    "\n",
    "print('variables_train: ', variables_train.shape)\n",
    "print('y_train: ', y_train.shape)   \n",
    "print('trueChildVisibleGeneration_train:', trueChildVisibleGeneration_train.shape)\n",
    "print('trainingCutSep_train:', trainingCutSep_train.shape)\n",
    "print('trainingCutDoesConnect_train:', trainingCutDoesConnect_train.shape)\n",
    "print('trainingCutL_train:', trainingCutL_train.shape)\n",
    "print('trainingCutT_train:', trainingCutT_train.shape)\n",
    "print('')\n",
    "print('variables_test: ', variables_test.shape)  \n",
    "print('y_test: ', y_test.shape)  \n",
    "print('trueChildVisibleGeneration_test:', trueChildVisibleGeneration_test.shape)\n",
    "print('trainingCutSep_test:', trainingCutSep_test.shape)\n",
    "print('trainingCutDoesConnect_test:', trainingCutDoesConnect_test.shape)\n",
    "print('trainingCutL_test:', trainingCutL_test.shape)\n",
    "print('trainingCutT_test:', trainingCutT_test.shape)"
   ]
  }
 ],
 "metadata": {
  "kernelspec": {
   "display_name": "Python 3 (ipykernel)",
   "language": "python",
   "name": "python3"
  },
  "language_info": {
   "codemirror_mode": {
    "name": "ipython",
    "version": 3
   },
   "file_extension": ".py",
   "mimetype": "text/x-python",
   "name": "python",
   "nbconvert_exporter": "python",
   "pygments_lexer": "ipython3",
   "version": "3.11.4"
  }
 },
 "nbformat": 4,
 "nbformat_minor": 5
}
