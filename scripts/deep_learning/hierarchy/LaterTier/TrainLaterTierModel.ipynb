{
 "cells": [
  {
   "cell_type": "markdown",
   "id": "de6899b0",
   "metadata": {},
   "source": [
    "## Train Later Tier Networks\n",
    "\n",
    "written by Isobel Mawby (i.mawby1@lancaster.ac.uk)"
   ]
  },
  {
   "cell_type": "markdown",
   "id": "6290ce5e",
   "metadata": {},
   "source": [
    "<div class=\"alert alert-block alert-info\" style=\"font-size: 18px;\">\n",
    "    Imports\n",
    "</div>"
   ]
  },
  {
   "cell_type": "code",
   "execution_count": null,
   "id": "fe1752bb",
   "metadata": {
    "scrolled": true
   },
   "outputs": [],
   "source": [
    "import sys\n",
    "import os\n",
    "sys.path.insert(0, os.getcwd()[0:len(os.getcwd()) - 10])\n",
    "sys.path.insert(1, os.getcwd()[0:len(os.getcwd()) - 10] + '/Metrics')\n",
    "\n",
    "import numpy as np\n",
    "import torch\n",
    "from torch.utils.data import Dataset, DataLoader\n",
    "import itertools\n",
    "\n",
    "import Models\n",
    "import Datasets\n",
    "import TrainingMetrics"
   ]
  },
  {
   "cell_type": "markdown",
   "id": "bb8ddcdc",
   "metadata": {},
   "source": [
    "<div class=\"alert alert-block alert-info\" style=\"font-size: 18px;\">\n",
    "    Train later tier track-track model (isTrackMode == True) or later tier track-shower model (isTrackMode == False)?\n",
    "</div>"
   ]
  },
  {
   "cell_type": "code",
   "execution_count": null,
   "id": "3abfb16d",
   "metadata": {},
   "outputs": [],
   "source": [
    "isTrackMode = False"
   ]
  },
  {
   "cell_type": "markdown",
   "id": "942439dc",
   "metadata": {},
   "source": [
    "<div class=\"alert alert-block alert-info\" style=\"font-size: 18px;\">\n",
    "    Put the path to the later tier track-track link training file (created by WriteLaterTierFile.ipynb with isTrackMode == True) and set ouput file name\n",
    "</div>"
   ]
  },
  {
   "cell_type": "code",
   "execution_count": null,
   "id": "2748b43b",
   "metadata": {},
   "outputs": [],
   "source": [
    "if (isTrackMode) :\n",
    "    trainFileName = sys.path[0] + '/files/hierarchy_TRAIN_later_tier_track.npz'\n",
    "    branchModelPath = sys.path[0] + '/models/track_track_branch_model'\n",
    "    classifierModelPath = sys.path[0] + '/models/track_track_classifier_model'\n",
    "else :\n",
    "    trainFileName = sys.path[0] + '/files/hierarchy_TRAIN_later_tier_shower.npz'\n",
    "    branchModelPath = sys.path[0] + '/models/track_shower_branch_model'\n",
    "    classifierModelPath = sys.path[0] + '/models/track_shower_classifier_model'"
   ]
  },
  {
   "cell_type": "markdown",
   "id": "c8f88e78",
   "metadata": {},
   "source": [
    "<div class=\"alert alert-block alert-info\" style=\"font-size: 18px;\">\n",
    "    Set hyperparameters\n",
    "</div>"
   ]
  },
  {
   "cell_type": "code",
   "execution_count": null,
   "id": "33bac12d",
   "metadata": {},
   "outputs": [],
   "source": [
    "N_EPOCHS = 5\n",
    "BATCH_SIZE = 64\n",
    "LEARNING_RATE = 1e-3\n",
    "DROPOUT_RATE = 0.5"
   ]
  },
  {
   "cell_type": "markdown",
   "id": "06be6803",
   "metadata": {},
   "source": [
    "<div class=\"alert alert-block alert-info\" style=\"font-size: 18px;\">\n",
    "    Get data from file\n",
    "</div>"
   ]
  },
  {
   "cell_type": "code",
   "execution_count": null,
   "id": "91a6f763",
   "metadata": {},
   "outputs": [],
   "source": [
    "data = np.load(trainFileName)\n",
    "\n",
    "# Variables\n",
    "variables_train = data['variables_train']\n",
    "variables_test = data['variables_test']\n",
    "# Truth\n",
    "y_train = data['y_train']\n",
    "y_test = data['y_test']\n",
    "trueParentChildLink_train = data['trueParentChildLink_train']\n",
    "trueParentChildLink_test = data['trueParentChildLink_test']\n",
    "trueChildVisibleGeneration_train = data['trueChildVisibleGeneration_train']\n",
    "trueChildVisibleGeneration_test = data['trueChildVisibleGeneration_test']\n",
    "trainingCutSep_train = data['trainingCutSep_train']\n",
    "trainingCutSep_test = data['trainingCutSep_test']\n",
    "trainingCutDoesConnect_train = data['trainingCutDoesConnect_train']\n",
    "trainingCutDoesConnect_test = data['trainingCutDoesConnect_test']\n",
    "trainingCutL_train = data['trainingCutL_train']\n",
    "trainingCutL_test = data['trainingCutL_test']\n",
    "trainingCutT_train = data['trainingCutT_train']\n",
    "trainingCutT_test = data['trainingCutT_test']"
   ]
  },
  {
   "cell_type": "markdown",
   "id": "83134f67",
   "metadata": {},
   "source": [
    "<div class=\"alert alert-block alert-info\" style=\"font-size: 18px;\">\n",
    "    Set multiplicity variables\n",
    "</div>"
   ]
  },
  {
   "cell_type": "code",
   "execution_count": null,
   "id": "1f87c35d",
   "metadata": {},
   "outputs": [],
   "source": [
    "nVariables = variables_train.shape[1]\n",
    "nLinks = y_train.shape[1]"
   ]
  },
  {
   "cell_type": "markdown",
   "id": "711a7e95",
   "metadata": {},
   "source": [
    "<div class=\"alert alert-block alert-info\" style=\"font-size: 18px;\">\n",
    "    Check shapes\n",
    "</div>"
   ]
  },
  {
   "cell_type": "code",
   "execution_count": null,
   "id": "30449dd8",
   "metadata": {},
   "outputs": [],
   "source": [
    "print('variables_train.shape:', variables_train.shape)\n",
    "print('variables_test.shape:', variables_test.shape)\n",
    "print('y_train.shape:', y_train.shape)\n",
    "print('y_test.shape:', y_test.shape)\n",
    "print('trueParentChildLink_train.shape:', trueParentChildLink_train.shape)\n",
    "print('trueParentChildLink_test.shape:', trueParentChildLink_test.shape)\n",
    "print('trueChildVisibleGeneration_train.shape:', trueChildVisibleGeneration_train.shape)\n",
    "print('trueChildVisibleGeneration_test.shape:', trueChildVisibleGeneration_test.shape)\n",
    "print('trainingCutSep_train.shape:', trainingCutSep_train.shape)\n",
    "print('trainingCutSep_test.shape:', trainingCutSep_test.shape)\n",
    "print('trainingCutDoesConnect_train.shape:', trainingCutDoesConnect_train.shape)\n",
    "print('trainingCutDoesConnect_test.shape:', trainingCutDoesConnect_test.shape)\n",
    "print('trainingCutL_train.shape:', trainingCutL_train.shape)\n",
    "print('trainingCutL_test.shape:', trainingCutL_test.shape)\n",
    "print('trainingCutT_train.shape:', trainingCutT_train.shape)\n",
    "print('trainingCutT_test.shape:', trainingCutT_test.shape)\n",
    "print('')\n",
    "print('ntrain:', variables_train.shape[0])\n",
    "print('ntest:', variables_test.shape[0])"
   ]
  },
  {
   "cell_type": "markdown",
   "id": "4061e241",
   "metadata": {},
   "source": [
    "<div class=\"alert alert-block alert-info\" style=\"font-size: 18px;\">\n",
    "    Apply training cut mask\n",
    "</div>"
   ]
  },
  {
   "cell_type": "code",
   "execution_count": null,
   "id": "2636579e",
   "metadata": {},
   "outputs": [],
   "source": [
    "# training cut threshold\n",
    "MAX_TRAINING_CUT_SEP = 20.0\n",
    "MIN_TRAINING_CUT_L = -100.0\n",
    "MAX_TRAINING_CUT_L = 100.0\n",
    "MAX_TRAINING_CUT_T = 40.0\n",
    "\n",
    "######################\n",
    "# training set first\n",
    "######################\n",
    "# Make mask\n",
    "passTrainingCutSep_train = trainingCutSep_train < MAX_TRAINING_CUT_SEP\n",
    "passTrainingCutDoesConnect_train = trainingCutDoesConnect_train == 1\n",
    "passTrainingCutL_train = np.logical_and(trainingCutL_train > MIN_TRAINING_CUT_L, trainingCutL_train < MAX_TRAINING_CUT_L)\n",
    "passTrainingCutT_train = trainingCutT_train < MAX_TRAINING_CUT_T\n",
    "passTrainingCuts_train = np.logical_or(passTrainingCutSep_train, np.logical_or(passTrainingCutDoesConnect_train, np.logical_and(passTrainingCutL_train, passTrainingCutT_train)))\n",
    "\n",
    "# Mask the 1D variables... shape=(nEntries, )\n",
    "trueChildVisibleGeneration_train = trueChildVisibleGeneration_train[passTrainingCuts_train]\n",
    "trueParentChildLink_train = trueParentChildLink_train[passTrainingCuts_train]\n",
    "\n",
    "# Mask the truth... shape=(nEntries, nLinks)\n",
    "y_train = y_train[np.column_stack([passTrainingCuts_train] * nLinks)].reshape(-1, nLinks)\n",
    "\n",
    "# Mask the variable... shape=(nEntries, nVariables)\n",
    "variables_train = variables_train[[[entry] * nVariables for entry in passTrainingCuts_train]].reshape(-1, nVariables)\n",
    "\n",
    "######################\n",
    "# now test set\n",
    "######################\n",
    "# Make mask\n",
    "passTrainingCutSep_test = trainingCutSep_test < MAX_TRAINING_CUT_SEP\n",
    "passTrainingCutDoesConnect_test = trainingCutDoesConnect_test == 1\n",
    "passTrainingCutL_test = np.logical_and(trainingCutL_test > MIN_TRAINING_CUT_L, trainingCutL_test < MAX_TRAINING_CUT_L)\n",
    "passTrainingCutT_test = trainingCutT_test < MAX_TRAINING_CUT_T\n",
    "passTrainingCuts_test = np.logical_or(passTrainingCutSep_test, np.logical_or(passTrainingCutDoesConnect_test, np.logical_and(passTrainingCutL_test, passTrainingCutT_test)))\n",
    "\n",
    "# Mask the 1D variables... shape=(nEntries, )\n",
    "trueChildVisibleGeneration_test = trueChildVisibleGeneration_test[passTrainingCuts_test]\n",
    "trueParentChildLink_test = trueParentChildLink_test[passTrainingCuts_test]\n",
    "\n",
    "# Mask the truth... shape=(nEntries, nLinks)\n",
    "y_test = y_test[np.column_stack([passTrainingCuts_test] * nLinks)].reshape(-1, nLinks)\n",
    "\n",
    "# Mask the variable... shape=(nEntries, nVariables)\n",
    "variables_test = variables_test[[[entry] * nVariables for entry in passTrainingCuts_test]].reshape(-1, nVariables)"
   ]
  },
  {
   "cell_type": "markdown",
   "id": "89b5d2da",
   "metadata": {},
   "source": [
    "<div class=\"alert alert-block alert-info\" style=\"font-size: 18px;\">\n",
    "    Check shapes after training cut application\n",
    "</div>"
   ]
  },
  {
   "cell_type": "code",
   "execution_count": null,
   "id": "5b0e727d",
   "metadata": {},
   "outputs": [],
   "source": [
    "print('variables_train.shape:', variables_train.shape)\n",
    "print('variables_test.shape:', variables_test.shape)\n",
    "print('y_train.shape:', y_train.shape)\n",
    "print('y_test.shape:', y_test.shape)\n",
    "print('trueParentChildLink_train.shape:', trueParentChildLink_train.shape)\n",
    "print('trueParentChildLink_test.shape:', trueParentChildLink_test.shape)\n",
    "print('trueChildVisibleGeneration_train.shape:', trueChildVisibleGeneration_train.shape)\n",
    "print('trueChildVisibleGeneration_test.shape:', trueChildVisibleGeneration_test.shape)\n",
    "print('')\n",
    "print('ntrain:', variables_train.shape[0])\n",
    "print('ntest:', variables_test.shape[0])"
   ]
  },
  {
   "cell_type": "markdown",
   "id": "a17b9d41",
   "metadata": {},
   "source": [
    "<div class=\"alert alert-block alert-info\" style=\"font-size: 18px;\">\n",
    "   Define class weights for the branch model, want to weight signal/background/wrong orientation classes so they're equal <b>and</b> equalise the secondary and 'higher' tier contributions in each class\n",
    "</div>"
   ]
  },
  {
   "cell_type": "code",
   "execution_count": null,
   "id": "8b0ec1b0",
   "metadata": {},
   "outputs": [],
   "source": [
    "# Calculate class weights\n",
    "nTrue = np.count_nonzero(y_train == 1)\n",
    "nBackground = np.count_nonzero(y_train == 0)\n",
    "nWrongOrientation = np.count_nonzero(y_train == 2)\n",
    "maxLinks = max(nTrue, nBackground, nWrongOrientation)\n",
    "\n",
    "true_branch_weight = float(maxLinks)/float(nTrue)\n",
    "background_branch_weight = float(maxLinks)/float(nBackground)\n",
    "wrong_orientation_branch_weight = float(maxLinks)/float(nWrongOrientation)\n",
    "\n",
    "# Get child tier + class type weight (i.e. secondary signal vs higher signal)\n",
    "n_secondary_child_true_branch = 0 \n",
    "for i in range(nLinks) : \n",
    "    n_secondary_child_true_branch += np.count_nonzero(np.logical_and(y_train[:,i] == 1, trueChildVisibleGeneration_train == 3))\n",
    "n_secondary_child_background_branch = 0\n",
    "for i in range(nLinks) : \n",
    "    n_secondary_child_background_branch += np.count_nonzero(np.logical_and(y_train[:,i] == 0, trueChildVisibleGeneration_train == 3))\n",
    "n_secondary_child_wrong_orientation_branch = 0\n",
    "for i in range(nLinks) : \n",
    "    n_secondary_child_wrong_orientation_branch += np.count_nonzero(np.logical_and(y_train[:,i] == 2, trueChildVisibleGeneration_train == 3))    \n",
    "n_higher_child_true_branch = 0\n",
    "for i in range(nLinks) :\n",
    "    n_higher_child_true_branch += np.count_nonzero(np.logical_and(y_train[:,i] == 1, trueChildVisibleGeneration_train > 3))\n",
    "n_higher_child_background_branch = 0\n",
    "for i in range(nLinks) :\n",
    "    n_higher_child_background_branch += np.count_nonzero(np.logical_and(y_train[:,i] == 0, trueChildVisibleGeneration_train > 3))    \n",
    "n_higher_child_wrong_orientation_branch = 0\n",
    "for i in range(nLinks) :\n",
    "    n_higher_child_wrong_orientation_branch += np.count_nonzero(np.logical_and(y_train[:,i] == 2, trueChildVisibleGeneration_train > 3)) \n",
    "\n",
    "\n",
    "secondary_child_true_branch_weight = (nTrue * 0.5) / n_secondary_child_true_branch\n",
    "secondary_child_background_branch_weight = (nBackground * 0.5) / n_secondary_child_background_branch\n",
    "secondary_child_wrong_orientation_branch_weight = (nWrongOrientation * 0.5) / n_secondary_child_wrong_orientation_branch\n",
    "higher_child_true_branch_weight = (nTrue * 0.5) / n_higher_child_true_branch\n",
    "higher_child_background_branch_weight = (nBackground * 0.5) / n_higher_child_background_branch\n",
    "higher_child_wrong_orientation_branch_weight = (nWrongOrientation * 0.5) / n_higher_child_wrong_orientation_branch\n",
    "\n",
    "classWeights_branch = {\n",
    "    'secondary_child_true_branch_weight'              : (secondary_child_true_branch_weight * true_branch_weight), \n",
    "    'secondary_child_background_branch_weight'        : (secondary_child_background_branch_weight * background_branch_weight),\n",
    "    'secondary_child_wrong_orientation_branch_weight' : (secondary_child_wrong_orientation_branch_weight * wrong_orientation_branch_weight),    \n",
    "    'higher_child_true_branch_weight'                 : (higher_child_true_branch_weight * true_branch_weight),\n",
    "    'higher_child_background_branch_weight'           : (higher_child_background_branch_weight * background_branch_weight),\n",
    "    'higher_child_wrong_orientation_branch_weight'    : (higher_child_wrong_orientation_branch_weight * wrong_orientation_branch_weight)\n",
    "}\n",
    "\n",
    "print('classWeights_branch:', classWeights_branch)"
   ]
  },
  {
   "cell_type": "markdown",
   "id": "4f35f720",
   "metadata": {},
   "source": [
    "<div class=\"alert alert-block alert-info\" style=\"font-size: 18px;\">\n",
    "   Check that we end up with the same number of signal, background and wrong orientation links <b>AND</b> the same number of secondary child and higher child links\n",
    "</div>"
   ]
  },
  {
   "cell_type": "code",
   "execution_count": null,
   "id": "cf46d73d",
   "metadata": {},
   "outputs": [],
   "source": [
    "this_signal = 0\n",
    "for i in range(nLinks) :\n",
    "    this_signal += (np.count_nonzero(np.logical_and(y_train[:,i] == 1, trueChildVisibleGeneration_train == 3)) * classWeights_branch['secondary_child_true_branch_weight'])\n",
    "    this_signal += (np.count_nonzero(np.logical_and(y_train[:,i] == 1, trueChildVisibleGeneration_train > 3)) * classWeights_branch['higher_child_true_branch_weight'])\n",
    "this_background = 0\n",
    "for i in range(nLinks) :\n",
    "    this_background += (np.count_nonzero(np.logical_and(y_train[:,i] == 0, trueChildVisibleGeneration_train == 3)) * classWeights_branch['secondary_child_background_branch_weight'])\n",
    "    this_background += (np.count_nonzero(np.logical_and(y_train[:,i] == 0, trueChildVisibleGeneration_train > 3)) * classWeights_branch['higher_child_background_branch_weight'])\n",
    "this_wrong_orientation = 0\n",
    "for i in range(nLinks) :\n",
    "    this_wrong_orientation += (np.count_nonzero(np.logical_and(y_train[:,i] == 2, trueChildVisibleGeneration_train == 3)) * classWeights_branch['secondary_child_wrong_orientation_branch_weight'])\n",
    "    this_wrong_orientation += (np.count_nonzero(np.logical_and(y_train[:,i] == 2, trueChildVisibleGeneration_train > 3)) * classWeights_branch['higher_child_wrong_orientation_branch_weight'])\n",
    "this_secondary = 0\n",
    "for i in range(nLinks) :\n",
    "    this_secondary += (np.count_nonzero(np.logical_and(y_train[:,i] == 1, trueChildVisibleGeneration_train == 3)) * classWeights_branch['secondary_child_true_branch_weight'])\n",
    "    this_secondary += (np.count_nonzero(np.logical_and(y_train[:,i] == 0, trueChildVisibleGeneration_train == 3)) * classWeights_branch['secondary_child_background_branch_weight'])\n",
    "    this_secondary += (np.count_nonzero(np.logical_and(y_train[:,i] == 2, trueChildVisibleGeneration_train == 3)) * classWeights_branch['secondary_child_wrong_orientation_branch_weight'])\n",
    "this_higher = 0\n",
    "for i in range(nLinks) :\n",
    "    this_higher += (np.count_nonzero(np.logical_and(y_train[:,i] == 1, trueChildVisibleGeneration_train > 3)) * classWeights_branch['higher_child_true_branch_weight'])\n",
    "    this_higher += (np.count_nonzero(np.logical_and(y_train[:,i] == 0, trueChildVisibleGeneration_train > 3)) * classWeights_branch['higher_child_background_branch_weight'])\n",
    "    this_higher += (np.count_nonzero(np.logical_and(y_train[:,i] == 2, trueChildVisibleGeneration_train > 3)) * classWeights_branch['higher_child_wrong_orientation_branch_weight'])\n",
    "\n",
    "\n",
    "print('this_signal:', this_signal)\n",
    "print('this_background:', this_background)\n",
    "print('this_wrong_orientation:', this_wrong_orientation)\n",
    "print('')\n",
    "print('this_secondary:', this_secondary)\n",
    "print('this_higher:', this_higher)"
   ]
  },
  {
   "cell_type": "markdown",
   "id": "69e85d09",
   "metadata": {},
   "source": [
    "<div class=\"alert alert-block alert-info\" style=\"font-size: 18px;\">\n",
    "   Define class weights for the classifier model, want to weight signal/background/wrong orientation classes so they're equal <b>and</b> equalise the secondary and 'higher' tier contributions in each class\n",
    "</div>"
   ]
  },
  {
   "cell_type": "code",
   "execution_count": null,
   "id": "32f6b98b",
   "metadata": {},
   "outputs": [],
   "source": [
    "# Calculate true/false classifier weights\n",
    "n_true_hierarchy_train = np.count_nonzero(trueParentChildLink_train == True)\n",
    "n_false_hierarchy_train = np.count_nonzero(trueParentChildLink_train == False)\n",
    "maxCounts_train = max(n_true_hierarchy_train, n_false_hierarchy_train)\n",
    "\n",
    "true_classifier_weight = float(maxCounts_train)/float(n_true_hierarchy_train)\n",
    "false_classifier_weight = float(maxCounts_train)/float(n_false_hierarchy_train)\n",
    "\n",
    "# Get child tier + class type weight (i.e. secondary signal vs higher signal)\n",
    "n_secondary_child_true_links_train = np.count_nonzero(np.logical_and(trueParentChildLink_train == True, (trueChildVisibleGeneration_train == 3)))\n",
    "n_secondary_child_false_links_train = np.count_nonzero(np.logical_and(trueParentChildLink_train == False, (trueChildVisibleGeneration_train == 3)))\n",
    "n_higher_child_true_links_train = np.count_nonzero(np.logical_and(trueParentChildLink_train == True, (trueChildVisibleGeneration_train > 3)))\n",
    "n_higher_child_false_links_train = np.count_nonzero(np.logical_and(trueParentChildLink_train == False, (trueChildVisibleGeneration_train > 3)))\n",
    "\n",
    "secondary_child_true_links_train_weight = (n_true_hierarchy_train * 0.5) / n_secondary_child_true_links_train\n",
    "secondary_child_false_links_train_weight = (n_false_hierarchy_train * 0.5) / n_secondary_child_false_links_train\n",
    "higher_child_true_links_train_weight = (n_true_hierarchy_train * 0.5) / n_higher_child_true_links_train\n",
    "higher_child_false_links_train_weight = (n_false_hierarchy_train * 0.5) / n_higher_child_false_links_train\n",
    "\n",
    "classWeights_classifier = {\n",
    "    'secondary_child_true_links_train_weight'  : (secondary_child_true_links_train_weight * true_classifier_weight), \n",
    "    'secondary_child_false_links_train_weight' : (secondary_child_false_links_train_weight * false_classifier_weight),\n",
    "    'higher_child_true_links_train_weight'     : (higher_child_true_links_train_weight * true_classifier_weight),\n",
    "    'higher_child_false_links_train_weight'    : (higher_child_false_links_train_weight * false_classifier_weight)\n",
    "}\n",
    "\n",
    "print('classWeights_classifier:', classWeights_classifier)\n",
    "\n",
    "# Convert to expected form\n",
    "classifier_weight = np.ones(trueParentChildLink_train.shape)\n",
    "classifier_weight[np.logical_and(trueParentChildLink_train == True, (trueChildVisibleGeneration_train == 3))] = classWeights_classifier['secondary_child_true_links_train_weight']\n",
    "classifier_weight[np.logical_and(trueParentChildLink_train == False, (trueChildVisibleGeneration_train == 3))] = classWeights_classifier['secondary_child_false_links_train_weight']\n",
    "classifier_weight[np.logical_and(trueParentChildLink_train == True, (trueChildVisibleGeneration_train > 3))] = classWeights_classifier['higher_child_true_links_train_weight']\n",
    "classifier_weight[np.logical_and(trueParentChildLink_train == False, (trueChildVisibleGeneration_train > 3))] = classWeights_classifier['higher_child_false_links_train_weight']\n",
    "\n",
    "print(np.sum(classifier_weight[np.logical_or(np.logical_and(trueParentChildLink_train == True, (trueChildVisibleGeneration_train == 3)), \n",
    "                                             np.logical_and(trueParentChildLink_train == False, (trueChildVisibleGeneration_train == 3)))]))     \n",
    "\n",
    "print(np.sum(classifier_weight[np.logical_or(np.logical_and(trueParentChildLink_train == True, (trueChildVisibleGeneration_train > 3)), \n",
    "                                             np.logical_and(trueParentChildLink_train == False, (trueChildVisibleGeneration_train > 3)))]))  "
   ]
  },
  {
   "cell_type": "markdown",
   "id": "7ba0b414",
   "metadata": {},
   "source": [
    "<div class=\"alert alert-block alert-info\" style=\"font-size: 18px;\">\n",
    "   Build the training input for each edge. This is a concatenation of the variable tensor of this edge and those of all other edges, such that the variables for the edge in question are first.\n",
    "</div>"
   ]
  },
  {
   "cell_type": "code",
   "execution_count": null,
   "id": "5f5e728b",
   "metadata": {},
   "outputs": [],
   "source": [
    "branch_model_input_train = Models.PrepareBranchModelInput(nLinks, Models.later_tier_n_orientation_indep_vars, Models.later_tier_n_orientation_dep_vars, variables_train)\n",
    "branch_model_input_test = Models.PrepareBranchModelInput(nLinks, Models.later_tier_n_orientation_indep_vars, Models.later_tier_n_orientation_dep_vars, variables_test)"
   ]
  },
  {
   "cell_type": "markdown",
   "id": "afebe082",
   "metadata": {},
   "source": [
    "<div class=\"alert alert-block alert-info\" style=\"font-size: 18px;\">\n",
    "    Prepare Dataset objects\n",
    "</div>"
   ]
  },
  {
   "cell_type": "code",
   "execution_count": null,
   "id": "8a881dba",
   "metadata": {},
   "outputs": [],
   "source": [
    "if (isTrackMode) :\n",
    "    dataset_train = Datasets.FourEdgeDataset(branch_model_input_train[0], branch_model_input_train[1], branch_model_input_train[2], branch_model_input_train[3], \\\n",
    "                                             y_train[:,0], y_train[:,1], y_train[:,2], y_train[:,3], trueParentChildLink_train, trueChildVisibleGeneration_train)\n",
    "    dataset_test = Datasets.FourEdgeDataset(branch_model_input_test[0], branch_model_input_test[1], branch_model_input_test[2], branch_model_input_test[3], \\\n",
    "                                            y_test[:,0], y_test[:,1], y_test[:,2], y_test[:,3], trueParentChildLink_test, trueChildVisibleGeneration_test)\n",
    "else :\n",
    "    dataset_train = Datasets.TwoEdgeDataset(branch_model_input_train[0], branch_model_input_train[1], y_train[:,0], y_train[:,1], trueParentChildLink_train, trueChildVisibleGeneration_train)\n",
    "    dataset_test = Datasets.TwoEdgeDataset(branch_model_input_test[0], branch_model_input_test[1], y_test[:,0], y_test[:,1], trueParentChildLink_test, trueChildVisibleGeneration_test)\n",
    "    \n",
    "loader_train = Datasets.DataLoader(dataset_train, shuffle=True, batch_size=BATCH_SIZE)   \n",
    "loader_test = Datasets.DataLoader(dataset_test, shuffle=True, batch_size=BATCH_SIZE)    "
   ]
  },
  {
   "cell_type": "markdown",
   "id": "2649dc7d",
   "metadata": {},
   "source": [
    "<div class=\"alert alert-block alert-info\" style=\"font-size: 18px;\">\n",
    "    Define branch and classifier models\n",
    "</div>"
   ]
  },
  {
   "cell_type": "code",
   "execution_count": null,
   "id": "3cc6d16f",
   "metadata": {},
   "outputs": [],
   "source": [
    "branch_model = Models.OrientationModel(nVariables, dropoutRate=DROPOUT_RATE)\n",
    "classifier_model = Models.ClassifierModel(nLinks)"
   ]
  },
  {
   "cell_type": "markdown",
   "id": "071b81dc",
   "metadata": {},
   "source": [
    "<div class=\"alert alert-block alert-info\" style=\"font-size: 18px;\">\n",
    "    Define loss functions for training to implement custom weighting\n",
    "</div>"
   ]
  },
  {
   "cell_type": "code",
   "execution_count": null,
   "id": "3941c376",
   "metadata": {},
   "outputs": [],
   "source": [
    "def loss_function_branch(pred, target, true_gen, weight_dict) :\n",
    "    # Calculate weights\n",
    "    weights = torch.ones(true_gen.shape)\n",
    "    weights[torch.logical_and(target == 1, true_gen == 3)] = weight_dict['secondary_child_true_branch_weight']\n",
    "    weights[torch.logical_and(target == 0, true_gen == 3)] = weight_dict['secondary_child_background_branch_weight']\n",
    "    weights[torch.logical_and(target == 2, true_gen == 3)] = weight_dict['secondary_child_wrong_orientation_branch_weight']    \n",
    "    weights[torch.logical_and(target == 1, true_gen > 3)] = weight_dict['higher_child_true_branch_weight']\n",
    "    weights[torch.logical_and(target == 0, true_gen > 3)] = weight_dict['higher_child_background_branch_weight']\n",
    "    weights[torch.logical_and(target == 2, true_gen > 3)] = weight_dict['higher_child_wrong_orientation_branch_weight']    \n",
    "    \n",
    "    loss_func = torch.nn.CrossEntropyLoss(reduction='none')\n",
    "    loss = loss_func(pred, target)    \n",
    "    loss = loss * weights\n",
    "    loss = torch.sum(loss) / loss.shape[0]\n",
    "    \n",
    "    return loss\n",
    "\n",
    "def loss_function_classifier(pred, target, true_gen, weight_dict) :\n",
    "    # I have to reshape so that I can do the weighting - sad.\n",
    "    pred = pred.reshape(-1)\n",
    "    target = target.reshape(-1)\n",
    "    \n",
    "    # Calculate weights\n",
    "    weights = torch.ones(true_gen.shape)\n",
    "    weights[torch.logical_and(target == 1, true_gen == 3)] = weight_dict['secondary_child_true_links_train_weight']\n",
    "    weights[torch.logical_and(target == 0, true_gen == 3)] = weight_dict['secondary_child_false_links_train_weight']\n",
    "    weights[torch.logical_and(target == 1, true_gen > 3)] = weight_dict['higher_child_true_links_train_weight']\n",
    "    weights[torch.logical_and(target == 0, true_gen > 3)] = weight_dict['higher_child_false_links_train_weight']    \n",
    "    \n",
    "    # Use BCE loss\n",
    "    loss_func = torch.nn.BCELoss(weight=weights)\n",
    "    \n",
    "    # Calculate loss\n",
    "    loss = loss_func(pred, target)    \n",
    "\n",
    "    return loss"
   ]
  },
  {
   "cell_type": "markdown",
   "id": "d1845add",
   "metadata": {},
   "source": [
    "<div class=\"alert alert-block alert-info\" style=\"font-size: 18px;\">\n",
    "    Training/validation loop functions.\n",
    "</div>"
   ]
  },
  {
   "cell_type": "code",
   "execution_count": null,
   "id": "a78f9e0c",
   "metadata": {},
   "outputs": [],
   "source": [
    "def RunTrainingLoop(nLinks, dataset_batch, branch_model, classifier_model, classWeights_branch, classWeights_classifier) : \n",
    "    classifier_input = torch.empty(0,)\n",
    "    total_loss = 0\n",
    "    \n",
    "    for i in range(nLinks) :\n",
    "        edge_name = \"edge\" + str(i)\n",
    "        pred = branch_model(dataset_batch[edge_name][0])\n",
    "        total_loss += loss_function_branch(pred, dataset_batch[edge_name][1], dataset_batch[\"truth_gen\"], classWeights_branch) \n",
    "        classifier_input = torch.concatenate((classifier_input, pred), axis=1)\n",
    "\n",
    "    classifier_target = dataset_batch[\"truth_link\"].reshape(-1,1)\n",
    "    classifier_pred = classifier_model(classifier_input)  \n",
    "    total_loss += loss_function_classifier(classifier_pred, classifier_target, dataset_batch[\"truth_gen\"], classWeights_classifier)\n",
    "\n",
    "    return total_loss\n",
    "\n",
    "def RunValidationLoop(nLinks, dataset_batch, branch_model, classifier_model, classWeights_branch, classWeights_classifier, linkMetrics) : \n",
    "    classifier_input = torch.empty(0,)\n",
    "    \n",
    "    for i in range(nLinks) :\n",
    "        edge_name = \"edge\" + str(i)\n",
    "        pred = branch_model(dataset_batch[edge_name][0])\n",
    "        branch_loss = loss_function_branch(pred, dataset_batch[edge_name][1], dataset_batch[\"truth_gen\"], classWeights_branch) \n",
    "        linkMetrics.edge_metrics[i].Fill(branch_loss, pred, dataset_batch[edge_name][1])      \n",
    "        classifier_input = torch.concatenate((classifier_input, pred), axis=1)\n",
    "\n",
    "    classifier_target = dataset_batch[\"truth_link\"].reshape(-1,1)\n",
    "    classifier_pred = classifier_model(classifier_input)  \n",
    "    classifier_loss = loss_function_classifier(classifier_pred, classifier_target, dataset_batch[\"truth_gen\"], classWeights_classifier)\n",
    "    linkMetrics.classifier_metrics.Fill(classifier_loss, classifier_pred, classifier_target) "
   ]
  },
  {
   "cell_type": "markdown",
   "id": "789052e0",
   "metadata": {},
   "source": [
    "<div class=\"alert alert-block alert-info\" style=\"font-size: 18px;\">\n",
    "   Training/testing loops\n",
    "</div>"
   ]
  },
  {
   "cell_type": "code",
   "execution_count": null,
   "id": "3a0c03c1",
   "metadata": {
    "scrolled": false
   },
   "outputs": [],
   "source": [
    "# Optimiser\n",
    "optimiser = torch.optim.Adam(itertools.chain(branch_model.parameters(), classifier_model.parameters()), lr=LEARNING_RATE)\n",
    "\n",
    "# Put here some metrics\n",
    "epochs_metrics = []\n",
    "training_link_metrics = []\n",
    "testing_link_metrics = []\n",
    "\n",
    "for epoch in range(N_EPOCHS):\n",
    "\n",
    "    # Begin training mode\n",
    "    branch_model.train()\n",
    "    classifier_model.train()\n",
    "    \n",
    "    for dataset_batch in loader_train :  \n",
    "        \n",
    "        # Skip incomplete batches\n",
    "        if (dataset_batch[\"truth_link\"].shape[0] != BATCH_SIZE) :\n",
    "            continue        \n",
    "            \n",
    "         # Run training loop\n",
    "        total_loss = RunTrainingLoop(nLinks, dataset_batch, branch_model, classifier_model, classWeights_branch, classWeights_classifier)\n",
    "        \n",
    "        # Update model parameters\n",
    "        optimiser.zero_grad()\n",
    "        total_loss.backward()\n",
    "        optimiser.step()\n",
    "        \n",
    "    with torch.no_grad():\n",
    "        \n",
    "        # Begin testing mode\n",
    "        branch_model.eval()\n",
    "        classifier_model.eval()\n",
    "        \n",
    "        # Initialise metrics            \n",
    "        linkMetrics_train = TrainingMetrics.LinkMetrics(nLinks)\n",
    "        linkMetrics_test = TrainingMetrics.LinkMetrics(nLinks)        \n",
    "                \n",
    "        # Iterate in batches over the training dataset.                        \n",
    "        for dataset_batch_train in loader_train :   \n",
    "\n",
    "            # Skip incomplete batches\n",
    "            if (dataset_batch_train[\"truth_link\"].shape[0] != BATCH_SIZE) :\n",
    "                continue        \n",
    "\n",
    "            # Run validation loop\n",
    "            RunValidationLoop(nLinks, dataset_batch_train, branch_model, classifier_model, classWeights_branch, classWeights_classifier, linkMetrics_train)\n",
    "            \n",
    "        # Iterate in batches over the testing dataset.  \n",
    "        for dataset_batch_test in loader_test :   \n",
    "\n",
    "            # Skip incomplete batches\n",
    "            if (dataset_batch_test[\"truth_link\"].shape[0] != BATCH_SIZE) :\n",
    "                continue        \n",
    "\n",
    "            # Run validation loop\n",
    "            RunValidationLoop(nLinks, dataset_batch_test, branch_model, classifier_model, classWeights_branch, classWeights_classifier, linkMetrics_test)            \n",
    "            \n",
    "        epochs_metrics.append(epoch)   \n",
    "    \n",
    "    ##########################\n",
    "    # Calc metrics for epoch \n",
    "    ##########################   \n",
    "    # Find threshold\n",
    "    optimal_threshold_train, maximum_accuracy_train = TrainingMetrics.calculate_accuracy(linkMetrics_train)\n",
    "    optimal_threshold_test, maximum_accuracy_test = TrainingMetrics.calculate_accuracy(linkMetrics_test)\n",
    "\n",
    "    # Calculate metrics\n",
    "    linkMetrics_train.Evaluate(optimal_threshold_train)\n",
    "    linkMetrics_test.Evaluate(optimal_threshold_test)\n",
    "    \n",
    "    # Add to our lists\n",
    "    training_link_metrics.append(linkMetrics_train)\n",
    "    testing_link_metrics.append(linkMetrics_test) \n",
    "    \n",
    "    # Do some prints\n",
    "    print('----------------------------------------')\n",
    "    print('Epoch:', epoch)\n",
    "    print('----------------------------------------')\n",
    "    print('training_classification_loss:', round(linkMetrics_train.classifier_metrics.av_loss, 2))\n",
    "    print('----')\n",
    "    print('optimal_threshold_train:', optimal_threshold_train)\n",
    "    print('accuracy_train:', str(round(maximum_accuracy_train.item(), 2)) +'%')\n",
    "    print('positive_as_positive_fraction_train:', str(round(linkMetrics_train.classifier_metrics.pos_as_pos_frac * 100.0, 2)) + '%')\n",
    "    print('positive_as_negative_fraction_train:', str(round(linkMetrics_train.classifier_metrics.pos_as_neg_frac * 100.0, 2)) + '%')\n",
    "    print('negative_as_negative_fraction_train:', str(round(linkMetrics_train.classifier_metrics.neg_as_pos_frac * 100.0, 2)) + '%')\n",
    "    print('negative_as_positive_fraction_train:', str(round(linkMetrics_train.classifier_metrics.neg_as_neg_frac * 100.0, 2)) + '%')\n",
    "    print('----')\n",
    "    print('testing_classification_loss:', round(linkMetrics_test.classifier_metrics.av_loss, 2))\n",
    "    print('----')\n",
    "    print('optimal_threshold_test:', optimal_threshold_test)\n",
    "    print('accuracy_test:', str(round(maximum_accuracy_test.item(), 2)) +'%')\n",
    "    print('positive_as_positive_fraction_test:', str(round(linkMetrics_test.classifier_metrics.pos_as_pos_frac * 100.0, 2)) + '%')\n",
    "    print('positive_as_negative_fraction_test:', str(round(linkMetrics_test.classifier_metrics.pos_as_neg_frac * 100.0, 2)) + '%')\n",
    "    print('negative_as_negative_fraction_test:', str(round(linkMetrics_test.classifier_metrics.neg_as_pos_frac * 100.0, 2)) + '%')\n",
    "    print('negative_as_positive_fraction_test:', str(round(linkMetrics_test.classifier_metrics.neg_as_neg_frac * 100.0, 2)) + '%')\n",
    "    print('----')\n",
    "    \n",
    "    for i in [0, 1, 2] :\n",
    "        TrainingMetrics.plot_scores_branch(linkMetrics_train, linkMetrics_test, 0, i)\n",
    "\n",
    "    TrainingMetrics.plot_scores_classifier(linkMetrics_train, linkMetrics_test)    "
   ]
  },
  {
   "cell_type": "markdown",
   "id": "e562b7d4",
   "metadata": {},
   "source": [
    "<div class=\"alert alert-block alert-info\" style=\"font-size: 18px;\">\n",
    "   Plot metrics associated with training \n",
    "</div>"
   ]
  },
  {
   "cell_type": "code",
   "execution_count": null,
   "id": "ae7c4482",
   "metadata": {
    "scrolled": false
   },
   "outputs": [],
   "source": [
    "TrainingMetrics.plot_branch_loss_evolution(epochs_metrics, training_link_metrics, testing_link_metrics, 0, 'Loss - branch_model_0')\n",
    "TrainingMetrics.plot_branch_loss_evolution(epochs_metrics, training_link_metrics, testing_link_metrics, 1, 'Loss - branch_model_1')\n",
    "TrainingMetrics.plot_classifier_loss_evolution(epochs_metrics, training_link_metrics, testing_link_metrics, 'Loss - classifier')\n",
    "TrainingMetrics.plot_edge_rate(epochs_metrics, training_link_metrics, testing_link_metrics, True)\n",
    "TrainingMetrics.plot_edge_rate(epochs_metrics,  training_link_metrics, testing_link_metrics, False)"
   ]
  },
  {
   "cell_type": "markdown",
   "id": "44c794f0",
   "metadata": {},
   "source": [
    "<div class=\"alert alert-block alert-info\" style=\"font-size: 18px;\">\n",
    "   Show ROC curve and confusion matrices, for the latter you can decide the threshold cut used\n",
    "</div>"
   ]
  },
  {
   "cell_type": "code",
   "execution_count": null,
   "id": "70b7dfa7",
   "metadata": {
    "scrolled": false
   },
   "outputs": [],
   "source": [
    "with torch.no_grad():\n",
    "    branch_model.eval()\n",
    "    classifier_model.eval()\n",
    "    \n",
    "    classifier_input = torch.empty(0,)\n",
    "    \n",
    "    for i in range(nLinks) :\n",
    "        pred = branch_model(torch.tensor(branch_model_input_test[i], dtype=torch.float))\n",
    "        classifier_input = torch.concatenate((classifier_input, pred), axis=1)\n",
    "\n",
    "    classifier_pred_test = classifier_model(classifier_input).reshape(-1)\n",
    "    neg_scores_final_test = np.array(classifier_pred_test.tolist())[trueParentChildLink_test == 0].reshape(-1)\n",
    "    pos_scores_final_test = np.array(classifier_pred_test.tolist())[trueParentChildLink_test == 1].reshape(-1)\n",
    "    \n",
    "    TrainingMetrics.plot_roc_curve(torch.tensor(pos_scores_final_test), torch.tensor(neg_scores_final_test))\n",
    "    TrainingMetrics.draw_confusion_with_threshold(classifier_pred_test, trueParentChildLink_test, 0.5)"
   ]
  },
  {
   "cell_type": "markdown",
   "id": "5ab4b35f",
   "metadata": {},
   "source": [
    "<div class=\"alert alert-block alert-info\" style=\"font-size: 18px;\">\n",
    "   Save the model\n",
    "</div>"
   ]
  },
  {
   "cell_type": "code",
   "execution_count": null,
   "id": "8e30fe86",
   "metadata": {},
   "outputs": [],
   "source": [
    "sm_branch = torch.jit.script(branch_model)\n",
    "sm_branch.save(branchModelPath)\n",
    "\n",
    "sm_classifier = torch.jit.script(classifier_model)\n",
    "sm_classifier.save(classifierModelPath)"
   ]
  }
 ],
 "metadata": {
  "kernelspec": {
   "display_name": "Python 3 (ipykernel)",
   "language": "python",
   "name": "python3"
  },
  "language_info": {
   "codemirror_mode": {
    "name": "ipython",
    "version": 3
   },
   "file_extension": ".py",
   "mimetype": "text/x-python",
   "name": "python",
   "nbconvert_exporter": "python",
   "pygments_lexer": "ipython3",
   "version": "3.11.4"
  }
 },
 "nbformat": 4,
 "nbformat_minor": 5
}
